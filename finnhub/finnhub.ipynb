{
 "cells": [
  {
   "cell_type": "markdown",
   "metadata": {},
   "source": [
    "1. finnhub에서 가져온 뉴스 데이터 확인"
   ]
  },
  {
   "cell_type": "code",
   "execution_count": 20,
   "metadata": {},
   "outputs": [],
   "source": [
    "read_path = \"./TSLA_extended_news_2025-06-14.csv\"\n",
    "write_path = \"./tesla_finbert_finnhub.csv\""
   ]
  },
  {
   "cell_type": "code",
   "execution_count": 21,
   "metadata": {},
   "outputs": [],
   "source": [
    "import pandas as pd\n",
    "\n",
    "df = pd.read_csv(read_path)"
   ]
  },
  {
   "cell_type": "code",
   "execution_count": 22,
   "metadata": {},
   "outputs": [
    {
     "name": "stdout",
     "output_type": "stream",
     "text": [
      "<class 'pandas.core.frame.DataFrame'>\n",
      "RangeIndex: 9122 entries, 0 to 9121\n",
      "Data columns (total 11 columns):\n",
      " #   Column             Non-Null Count  Dtype  \n",
      "---  ------             --------------  -----  \n",
      " 0   id                 9122 non-null   int64  \n",
      " 1   title              9122 non-null   object \n",
      " 2   summary            8995 non-null   object \n",
      " 3   link               9122 non-null   object \n",
      " 4   publisher          0 non-null      float64\n",
      " 5   category           9122 non-null   object \n",
      " 6   pubDate            9122 non-null   object \n",
      " 7   image              5022 non-null   object \n",
      " 8   related            9122 non-null   object \n",
      " 9   source             9122 non-null   object \n",
      " 10  collection_period  9122 non-null   object \n",
      "dtypes: float64(1), int64(1), object(9)\n",
      "memory usage: 784.1+ KB\n"
     ]
    }
   ],
   "source": [
    "df.info()"
   ]
  },
  {
   "cell_type": "code",
   "execution_count": 23,
   "metadata": {},
   "outputs": [
    {
     "data": {
      "text/html": [
       "<div>\n",
       "<style scoped>\n",
       "    .dataframe tbody tr th:only-of-type {\n",
       "        vertical-align: middle;\n",
       "    }\n",
       "\n",
       "    .dataframe tbody tr th {\n",
       "        vertical-align: top;\n",
       "    }\n",
       "\n",
       "    .dataframe thead th {\n",
       "        text-align: right;\n",
       "    }\n",
       "</style>\n",
       "<table border=\"1\" class=\"dataframe\">\n",
       "  <thead>\n",
       "    <tr style=\"text-align: right;\">\n",
       "      <th></th>\n",
       "      <th>id</th>\n",
       "      <th>title</th>\n",
       "      <th>summary</th>\n",
       "      <th>link</th>\n",
       "      <th>publisher</th>\n",
       "      <th>category</th>\n",
       "      <th>pubDate</th>\n",
       "      <th>image</th>\n",
       "      <th>related</th>\n",
       "      <th>source</th>\n",
       "      <th>collection_period</th>\n",
       "    </tr>\n",
       "  </thead>\n",
       "  <tbody>\n",
       "    <tr>\n",
       "      <th>0</th>\n",
       "      <td>135270081</td>\n",
       "      <td>Investing.com’s stocks of the week</td>\n",
       "      <td>Investing.com -- The risk environment took a t...</td>\n",
       "      <td>https://finnhub.io/api/news?id=7b50f31ff46e1da...</td>\n",
       "      <td>NaN</td>\n",
       "      <td>company</td>\n",
       "      <td>2025-06-14 09:30:10</td>\n",
       "      <td>https://s.yimg.com/rz/stage/p/yahoo_finance_en...</td>\n",
       "      <td>TSLA</td>\n",
       "      <td>Yahoo</td>\n",
       "      <td>2025-06-07_2025-06-14</td>\n",
       "    </tr>\n",
       "    <tr>\n",
       "      <th>1</th>\n",
       "      <td>135270082</td>\n",
       "      <td>How Elon Musk Is Reinventing Tesla’s Strategy</td>\n",
       "      <td>The CEO’s embrace of nascent AI technology is ...</td>\n",
       "      <td>https://finnhub.io/api/news?id=2b8d136bb3816bf...</td>\n",
       "      <td>NaN</td>\n",
       "      <td>company</td>\n",
       "      <td>2025-06-14 09:30:00</td>\n",
       "      <td>https://s.yimg.com/rz/stage/p/yahoo_finance_en...</td>\n",
       "      <td>TSLA</td>\n",
       "      <td>Yahoo</td>\n",
       "      <td>2025-06-07_2025-06-14</td>\n",
       "    </tr>\n",
       "    <tr>\n",
       "      <th>2</th>\n",
       "      <td>135271383</td>\n",
       "      <td>YTSL:CA: Second Look Alters My Thesis After 40...</td>\n",
       "      <td>NaN</td>\n",
       "      <td>https://finnhub.io/api/news?id=5ad93e270cefed4...</td>\n",
       "      <td>NaN</td>\n",
       "      <td>company</td>\n",
       "      <td>2025-06-14 09:15:00</td>\n",
       "      <td>NaN</td>\n",
       "      <td>TSLA</td>\n",
       "      <td>SeekingAlpha</td>\n",
       "      <td>2025-06-07_2025-06-14</td>\n",
       "    </tr>\n",
       "    <tr>\n",
       "      <th>3</th>\n",
       "      <td>135268235</td>\n",
       "      <td>Harbor Human Capital Factor US Large Cap ETF Q...</td>\n",
       "      <td>During the first quarter, the Harbor Human Cap...</td>\n",
       "      <td>https://finnhub.io/api/news?id=f9bc3e7c6441a64...</td>\n",
       "      <td>NaN</td>\n",
       "      <td>company</td>\n",
       "      <td>2025-06-14 05:10:00</td>\n",
       "      <td>https://static.seekingalpha.com/cdn/s3/uploads...</td>\n",
       "      <td>TSLA</td>\n",
       "      <td>SeekingAlpha</td>\n",
       "      <td>2025-06-07_2025-06-14</td>\n",
       "    </tr>\n",
       "    <tr>\n",
       "      <th>4</th>\n",
       "      <td>135261684</td>\n",
       "      <td>The Real Heirs to Berkshire Hathaway</td>\n",
       "      <td>Readers weigh in on the mini-Berkshires, small...</td>\n",
       "      <td>https://finnhub.io/api/news?id=108778cee7146af...</td>\n",
       "      <td>NaN</td>\n",
       "      <td>company</td>\n",
       "      <td>2025-06-14 00:23:00</td>\n",
       "      <td>https://s.yimg.com/rz/stage/p/yahoo_finance_en...</td>\n",
       "      <td>TSLA</td>\n",
       "      <td>Yahoo</td>\n",
       "      <td>2025-06-07_2025-06-14</td>\n",
       "    </tr>\n",
       "  </tbody>\n",
       "</table>\n",
       "</div>"
      ],
      "text/plain": [
       "          id                                              title  \\\n",
       "0  135270081                 Investing.com’s stocks of the week   \n",
       "1  135270082      How Elon Musk Is Reinventing Tesla’s Strategy   \n",
       "2  135271383  YTSL:CA: Second Look Alters My Thesis After 40...   \n",
       "3  135268235  Harbor Human Capital Factor US Large Cap ETF Q...   \n",
       "4  135261684               The Real Heirs to Berkshire Hathaway   \n",
       "\n",
       "                                             summary  \\\n",
       "0  Investing.com -- The risk environment took a t...   \n",
       "1  The CEO’s embrace of nascent AI technology is ...   \n",
       "2                                                NaN   \n",
       "3  During the first quarter, the Harbor Human Cap...   \n",
       "4  Readers weigh in on the mini-Berkshires, small...   \n",
       "\n",
       "                                                link  publisher category  \\\n",
       "0  https://finnhub.io/api/news?id=7b50f31ff46e1da...        NaN  company   \n",
       "1  https://finnhub.io/api/news?id=2b8d136bb3816bf...        NaN  company   \n",
       "2  https://finnhub.io/api/news?id=5ad93e270cefed4...        NaN  company   \n",
       "3  https://finnhub.io/api/news?id=f9bc3e7c6441a64...        NaN  company   \n",
       "4  https://finnhub.io/api/news?id=108778cee7146af...        NaN  company   \n",
       "\n",
       "               pubDate                                              image  \\\n",
       "0  2025-06-14 09:30:10  https://s.yimg.com/rz/stage/p/yahoo_finance_en...   \n",
       "1  2025-06-14 09:30:00  https://s.yimg.com/rz/stage/p/yahoo_finance_en...   \n",
       "2  2025-06-14 09:15:00                                                NaN   \n",
       "3  2025-06-14 05:10:00  https://static.seekingalpha.com/cdn/s3/uploads...   \n",
       "4  2025-06-14 00:23:00  https://s.yimg.com/rz/stage/p/yahoo_finance_en...   \n",
       "\n",
       "  related        source      collection_period  \n",
       "0    TSLA         Yahoo  2025-06-07_2025-06-14  \n",
       "1    TSLA         Yahoo  2025-06-07_2025-06-14  \n",
       "2    TSLA  SeekingAlpha  2025-06-07_2025-06-14  \n",
       "3    TSLA  SeekingAlpha  2025-06-07_2025-06-14  \n",
       "4    TSLA         Yahoo  2025-06-07_2025-06-14  "
      ]
     },
     "execution_count": 23,
     "metadata": {},
     "output_type": "execute_result"
    }
   ],
   "source": [
    "df.head(5)"
   ]
  },
  {
   "cell_type": "code",
   "execution_count": 24,
   "metadata": {},
   "outputs": [
    {
     "name": "stderr",
     "output_type": "stream",
     "text": [
      "Device set to use cuda:0\n",
      "c:\\Users\\jhh33\\anaconda3\\envs\\pythonProject1\\Lib\\site-packages\\transformers\\pipelines\\text_classification.py:106: UserWarning: `return_all_scores` is now deprecated,  if want a similar functionality use `top_k=None` instead of `return_all_scores=True` or `top_k=1` instead of `return_all_scores=False`.\n",
      "  warnings.warn(\n"
     ]
    },
    {
     "name": "stdout",
     "output_type": "stream",
     "text": [
      "결과 저장 완료: ./tesla_finbert_finnhub.csv\n"
     ]
    }
   ],
   "source": [
    "import pandas as pd\n",
    "from transformers import AutoTokenizer, AutoModelForSequenceClassification, pipeline\n",
    "\n",
    "MODEL = \"yiyanghkust/finbert-tone\"\n",
    "tokenizer = AutoTokenizer.from_pretrained(MODEL)\n",
    "model = AutoModelForSequenceClassification.from_pretrained(MODEL)\n",
    "finbert = pipeline(\"sentiment-analysis\", model=model, tokenizer=tokenizer, return_all_scores=True)\n",
    "\n",
    "df = pd.read_csv(read_path)\n",
    "\n",
    "df = df.fillna(\"\")\n",
    "\n",
    "df[\"text\"] = df[\"title\"] + \". \" + df[\"summary\"]\n",
    "\n",
    "def truncate_and_flag(text, tokenizer, max_len=512):\n",
    "    tokens = tokenizer.encode(text, truncation=True, max_length=max_len)\n",
    "    truncated_text = tokenizer.decode(tokens, skip_special_tokens=True)\n",
    "    over_flag = 1 if len(tokenizer.encode(text)) > max_len else 0\n",
    "    return truncated_text, over_flag\n",
    "\n",
    "df[[\"text\", \"over_512\"]] = df[\"text\"].apply(\n",
    "    lambda x: pd.Series(truncate_and_flag(x, tokenizer, max_len=512))\n",
    ")\n",
    "\n",
    "texts = df[\"text\"].tolist()\n",
    "results = finbert(texts, batch_size=8)\n",
    "\n",
    "pos_scores, neu_scores, neg_scores = [], [], []\n",
    "for res in results:\n",
    "    d = {r[\"label\"].lower(): r[\"score\"] for r in res}\n",
    "    pos_scores.append(d.get(\"positive\", 0.0))\n",
    "    neu_scores.append(d.get(\"neutral\", 0.0))\n",
    "    neg_scores.append(d.get(\"negative\", 0.0))\n",
    "\n",
    "df[\"finbert_positive\"] = pos_scores\n",
    "df[\"finbert_neutral\"] = neu_scores\n",
    "df[\"finbert_negative\"] = neg_scores\n",
    "\n",
    "df.to_csv(write_path, index=False)\n",
    "print(f\"결과 저장 완료: {write_path}\")\n"
   ]
  },
  {
   "cell_type": "markdown",
   "metadata": {},
   "source": [
    "Text의 길이가 얼마나 영향을 끼치는지 확인"
   ]
  },
  {
   "cell_type": "code",
   "execution_count": 18,
   "metadata": {},
   "outputs": [
    {
     "name": "stdout",
     "output_type": "stream",
     "text": [
      "총 개수: 8\n",
      "평균 Positive: 0.30173408985865535\n",
      "평균 Neutral: 0.6699639637954533\n",
      "평균 Negative: 0.028301946480496512\n",
      "Positive > 0.5: 2\n",
      "Negative > 0.5: 0\n",
      "Neutral > 0.7: 5\n"
     ]
    }
   ],
   "source": [
    "df = pd.read_csv(\"./apple_finbert_finnhub.csv\")\n",
    "\n",
    "# 512 토큰 넘은 것만 필터링\n",
    "df_over = df[df[\"over_512\"] == 1]\n",
    "\n",
    "# 요약 통계 출력\n",
    "summary = {\n",
    "    \"총 개수\": len(df_over),\n",
    "    \"평균 Positive\": df_over[\"finbert_positive\"].mean(),\n",
    "    \"평균 Neutral\": df_over[\"finbert_neutral\"].mean(),\n",
    "    \"평균 Negative\": df_over[\"finbert_negative\"].mean(),\n",
    "    \"Positive > 0.5\": (df_over[\"finbert_positive\"] > 0.5).sum(),\n",
    "    \"Negative > 0.5\": (df_over[\"finbert_negative\"] > 0.5).sum(),\n",
    "    \"Neutral > 0.7\": (df_over[\"finbert_neutral\"] > 0.7).sum(),\n",
    "}\n",
    "\n",
    "for k, v in summary.items():\n",
    "    print(f\"{k}: {v}\")\n"
   ]
  },
  {
   "cell_type": "code",
   "execution_count": 21,
   "metadata": {},
   "outputs": [
    {
     "name": "stdout",
     "output_type": "stream",
     "text": [
      "총 개수: 8769\n",
      "평균 Positive: 0.2730605699986634\n",
      "평균 Neutral: 0.5371677767336367\n",
      "평균 Negative: 0.18977165364321283\n",
      "Positive > 0.5: 2378\n",
      "Negative > 0.5: 1650\n",
      "Neutral > 0.7: 4525\n"
     ]
    }
   ],
   "source": [
    "summary = {\n",
    "    \"총 개수\": len(df),\n",
    "    \"평균 Positive\": df[\"finbert_positive\"].mean(),\n",
    "    \"평균 Neutral\": df[\"finbert_neutral\"].mean(),\n",
    "    \"평균 Negative\": df[\"finbert_negative\"].mean(),\n",
    "    \"Positive > 0.5\": (df[\"finbert_positive\"] > 0.5).sum(),\n",
    "    \"Negative > 0.5\": (df[\"finbert_negative\"] > 0.5).sum(),\n",
    "    \"Neutral > 0.7\": (df[\"finbert_neutral\"] > 0.7).sum(),\n",
    "}\n",
    "\n",
    "for k, v in summary.items():\n",
    "    print(f\"{k}: {v}\")"
   ]
  }
 ],
 "metadata": {
  "kernelspec": {
   "display_name": "Python 3",
   "language": "python",
   "name": "python3"
  },
  "language_info": {
   "codemirror_mode": {
    "name": "ipython",
    "version": 3
   },
   "file_extension": ".py",
   "mimetype": "text/x-python",
   "name": "python",
   "nbconvert_exporter": "python",
   "pygments_lexer": "ipython3",
   "version": "3.13.0"
  }
 },
 "nbformat": 4,
 "nbformat_minor": 2
}
