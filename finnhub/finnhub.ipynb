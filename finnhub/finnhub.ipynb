{
 "cells": [
  {
   "cell_type": "markdown",
   "metadata": {},
   "source": [
    "1. finnhub에서 가져온 뉴스 데이터 확인"
   ]
  },
  {
   "cell_type": "code",
   "execution_count": 2,
   "metadata": {},
   "outputs": [],
   "source": [
    "import pandas as pd\n",
    "\n",
    "df = pd.read_csv(\"./AAPL_news_2025-06-07.csv\")"
   ]
  },
  {
   "cell_type": "code",
   "execution_count": 3,
   "metadata": {},
   "outputs": [
    {
     "data": {
      "text/html": [
       "<div>\n",
       "<style scoped>\n",
       "    .dataframe tbody tr th:only-of-type {\n",
       "        vertical-align: middle;\n",
       "    }\n",
       "\n",
       "    .dataframe tbody tr th {\n",
       "        vertical-align: top;\n",
       "    }\n",
       "\n",
       "    .dataframe thead th {\n",
       "        text-align: right;\n",
       "    }\n",
       "</style>\n",
       "<table border=\"1\" class=\"dataframe\">\n",
       "  <thead>\n",
       "    <tr style=\"text-align: right;\">\n",
       "      <th></th>\n",
       "      <th>title</th>\n",
       "      <th>summary</th>\n",
       "      <th>link</th>\n",
       "      <th>publisher</th>\n",
       "      <th>pubDate</th>\n",
       "      <th>source</th>\n",
       "    </tr>\n",
       "  </thead>\n",
       "  <tbody>\n",
       "    <tr>\n",
       "      <th>0</th>\n",
       "      <td>GameStop earnings, US-China talks, May CPI: Wh...</td>\n",
       "      <td>Market Domination Overtime hosts Julie Hyman a...</td>\n",
       "      <td>https://finnhub.io/api/news?id=c58f1563b03c26f...</td>\n",
       "      <td>Yahoo</td>\n",
       "      <td>2025-06-06 23:00:00</td>\n",
       "      <td>finnhub</td>\n",
       "    </tr>\n",
       "    <tr>\n",
       "      <th>1</th>\n",
       "      <td>Dow Jones Futures: S&amp;P 500 Nears Highs, 5 Stoc...</td>\n",
       "      <td>Dow Jones Futures: S&amp;P 500 Nears Highs, 5 Stoc...</td>\n",
       "      <td>https://finnhub.io/api/news?id=9bbe0c1e8527045...</td>\n",
       "      <td>DowJones</td>\n",
       "      <td>2025-06-06 22:58:53</td>\n",
       "      <td>finnhub</td>\n",
       "    </tr>\n",
       "    <tr>\n",
       "      <th>2</th>\n",
       "      <td>Why Apple is falling behind &amp; how it can pull ...</td>\n",
       "      <td>Patrick Moorhead, founder and CEO at Moor Insi...</td>\n",
       "      <td>https://finnhub.io/api/news?id=b7251bb62e2351a...</td>\n",
       "      <td>Yahoo</td>\n",
       "      <td>2025-06-06 22:00:00</td>\n",
       "      <td>finnhub</td>\n",
       "    </tr>\n",
       "    <tr>\n",
       "      <th>3</th>\n",
       "      <td>Apple Set For Low-Key WWDC News Cycle After AI...</td>\n",
       "      <td>Apple's WWDC 2025 is likely to be a low-key af...</td>\n",
       "      <td>https://finnhub.io/api/news?id=f1baa303fafbf4a...</td>\n",
       "      <td>Yahoo</td>\n",
       "      <td>2025-06-06 21:31:53</td>\n",
       "      <td>finnhub</td>\n",
       "    </tr>\n",
       "    <tr>\n",
       "      <th>4</th>\n",
       "      <td>Where Will Apple Stock Be in 5 Years?</td>\n",
       "      <td>Apple shares have been a monster winner in the...</td>\n",
       "      <td>https://finnhub.io/api/news?id=d95edfa32b01336...</td>\n",
       "      <td>Yahoo</td>\n",
       "      <td>2025-06-06 21:18:00</td>\n",
       "      <td>finnhub</td>\n",
       "    </tr>\n",
       "  </tbody>\n",
       "</table>\n",
       "</div>"
      ],
      "text/plain": [
       "                                               title  \\\n",
       "0  GameStop earnings, US-China talks, May CPI: Wh...   \n",
       "1  Dow Jones Futures: S&P 500 Nears Highs, 5 Stoc...   \n",
       "2  Why Apple is falling behind & how it can pull ...   \n",
       "3  Apple Set For Low-Key WWDC News Cycle After AI...   \n",
       "4              Where Will Apple Stock Be in 5 Years?   \n",
       "\n",
       "                                             summary  \\\n",
       "0  Market Domination Overtime hosts Julie Hyman a...   \n",
       "1  Dow Jones Futures: S&P 500 Nears Highs, 5 Stoc...   \n",
       "2  Patrick Moorhead, founder and CEO at Moor Insi...   \n",
       "3  Apple's WWDC 2025 is likely to be a low-key af...   \n",
       "4  Apple shares have been a monster winner in the...   \n",
       "\n",
       "                                                link publisher  \\\n",
       "0  https://finnhub.io/api/news?id=c58f1563b03c26f...     Yahoo   \n",
       "1  https://finnhub.io/api/news?id=9bbe0c1e8527045...  DowJones   \n",
       "2  https://finnhub.io/api/news?id=b7251bb62e2351a...     Yahoo   \n",
       "3  https://finnhub.io/api/news?id=f1baa303fafbf4a...     Yahoo   \n",
       "4  https://finnhub.io/api/news?id=d95edfa32b01336...     Yahoo   \n",
       "\n",
       "               pubDate   source  \n",
       "0  2025-06-06 23:00:00  finnhub  \n",
       "1  2025-06-06 22:58:53  finnhub  \n",
       "2  2025-06-06 22:00:00  finnhub  \n",
       "3  2025-06-06 21:31:53  finnhub  \n",
       "4  2025-06-06 21:18:00  finnhub  "
      ]
     },
     "execution_count": 3,
     "metadata": {},
     "output_type": "execute_result"
    }
   ],
   "source": [
    "df.head(5)"
   ]
  },
  {
   "cell_type": "code",
   "execution_count": 4,
   "metadata": {},
   "outputs": [
    {
     "data": {
      "text/plain": [
       "'GameStop earnings, US-China talks, May CPI: What to Watch'"
      ]
     },
     "execution_count": 4,
     "metadata": {},
     "output_type": "execute_result"
    }
   ],
   "source": [
    "df['title'][0]"
   ]
  },
  {
   "cell_type": "code",
   "execution_count": 5,
   "metadata": {},
   "outputs": [
    {
     "data": {
      "text/plain": [
       "\"Market Domination Overtime hosts Julie Hyman and Josh Lipton preview the top market stories and headlines Wall Street will be paying attention to next week, including corporate earnings from companies like GameStop (GME), Oracle (ORCL), Adobe (ADBE), and the J.M. Smucker Company (SJM); Apple's (AAPL) 2025 Worldwide Developers Conference (WWDC) kicking off; May's inflation data; and the launch of Tesla's (TSLA) robotaxi beta in Austin, Texas, starting on June 12. To watch more expert insights and analysis on the latest market action, check out more Market Domination Overtime\\xa0here.\""
      ]
     },
     "execution_count": 5,
     "metadata": {},
     "output_type": "execute_result"
    }
   ],
   "source": [
    "df['summary'][0]"
   ]
  },
  {
   "cell_type": "code",
   "execution_count": 7,
   "metadata": {},
   "outputs": [
    {
     "name": "stdout",
     "output_type": "stream",
     "text": [
      "<class 'pandas.core.frame.DataFrame'>\n",
      "RangeIndex: 226 entries, 0 to 225\n",
      "Data columns (total 6 columns):\n",
      " #   Column     Non-Null Count  Dtype \n",
      "---  ------     --------------  ----- \n",
      " 0   title      226 non-null    object\n",
      " 1   summary    222 non-null    object\n",
      " 2   link       226 non-null    object\n",
      " 3   publisher  226 non-null    object\n",
      " 4   pubDate    226 non-null    object\n",
      " 5   source     226 non-null    object\n",
      "dtypes: object(6)\n",
      "memory usage: 10.7+ KB\n"
     ]
    }
   ],
   "source": [
    "df.info()"
   ]
  },
  {
   "cell_type": "code",
   "execution_count": 9,
   "metadata": {},
   "outputs": [
    {
     "data": {
      "text/plain": [
       "'2025-06-06 23:00:00'"
      ]
     },
     "execution_count": 9,
     "metadata": {},
     "output_type": "execute_result"
    }
   ],
   "source": [
    "df['pubDate'][0]\n"
   ]
  },
  {
   "cell_type": "code",
   "execution_count": 11,
   "metadata": {},
   "outputs": [
    {
     "name": "stderr",
     "output_type": "stream",
     "text": [
      "Device set to use cuda:0\n",
      "c:\\Users\\jhh33\\anaconda3\\envs\\pythonProject1\\Lib\\site-packages\\transformers\\pipelines\\text_classification.py:106: UserWarning: `return_all_scores` is now deprecated,  if want a similar functionality use `top_k=None` instead of `return_all_scores=True` or `top_k=1` instead of `return_all_scores=False`.\n",
      "  warnings.warn(\n"
     ]
    },
    {
     "name": "stdout",
     "output_type": "stream",
     "text": [
      "✅ 결과 저장 완료: apple_finbert_finnhub.csv\n"
     ]
    }
   ],
   "source": [
    "import pandas as pd\n",
    "from transformers import AutoTokenizer, AutoModelForSequenceClassification, pipeline\n",
    "\n",
    "MODEL = \"yiyanghkust/finbert-tone\"\n",
    "tokenizer = AutoTokenizer.from_pretrained(MODEL)\n",
    "model = AutoModelForSequenceClassification.from_pretrained(MODEL)\n",
    "finbert = pipeline(\"sentiment-analysis\", model=model, tokenizer=tokenizer, return_all_scores=True)\n",
    "\n",
    "df = pd.read_csv(\"AAPL_news_2025-06-07.csv\") \n",
    "df = df.fillna(\"\")\n",
    "\n",
    "df[\"text\"] = df[\"title\"] + \". \" + df[\"summary\"]\n",
    "texts = df[\"text\"].tolist()\n",
    "\n",
    "results = finbert(texts, batch_size=8)\n",
    "\n",
    "pos_scores, neu_scores, neg_scores = [], [], []\n",
    "\n",
    "for res in results:\n",
    "    d = {r[\"label\"].lower(): r[\"score\"] for r in res}\n",
    "    pos_scores.append(d.get(\"positive\", 0.0))\n",
    "    neu_scores.append(d.get(\"neutral\", 0.0))\n",
    "    neg_scores.append(d.get(\"negative\", 0.0))\n",
    "\n",
    "df[\"finbert_positive\"] = pos_scores\n",
    "df[\"finbert_neutral\"] = neu_scores\n",
    "df[\"finbert_negative\"] = neg_scores\n",
    "\n",
    "output_csv = \"apple_finbert_finnhub.csv\"\n",
    "df.to_csv(output_csv, index=False)\n",
    "print(f\"결과 저장 완료: {output_csv}\")\n"
   ]
  },
  {
   "cell_type": "code",
   "execution_count": null,
   "metadata": {},
   "outputs": [],
   "source": []
  }
 ],
 "metadata": {
  "kernelspec": {
   "display_name": "pythonProject1",
   "language": "python",
   "name": "python3"
  },
  "language_info": {
   "codemirror_mode": {
    "name": "ipython",
    "version": 3
   },
   "file_extension": ".py",
   "mimetype": "text/x-python",
   "name": "python",
   "nbconvert_exporter": "python",
   "pygments_lexer": "ipython3",
   "version": "3.11.9"
  }
 },
 "nbformat": 4,
 "nbformat_minor": 2
}
