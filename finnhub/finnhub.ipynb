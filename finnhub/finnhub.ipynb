{
 "cells": [
  {
   "cell_type": "markdown",
   "metadata": {},
   "source": [
    "1. finnhub에서 가져온 뉴스 데이터 확인"
   ]
  },
  {
   "cell_type": "code",
   "execution_count": 10,
   "metadata": {},
   "outputs": [],
   "source": [
    "import pandas as pd\n",
    "\n",
    "df = pd.read_csv(\"./TSLA_extended_news_2025-06-14.csv\")"
   ]
  },
  {
   "cell_type": "code",
   "execution_count": 11,
   "metadata": {},
   "outputs": [
    {
     "name": "stdout",
     "output_type": "stream",
     "text": [
      "<class 'pandas.core.frame.DataFrame'>\n",
      "RangeIndex: 9122 entries, 0 to 9121\n",
      "Data columns (total 11 columns):\n",
      " #   Column             Non-Null Count  Dtype  \n",
      "---  ------             --------------  -----  \n",
      " 0   id                 9122 non-null   int64  \n",
      " 1   title              9122 non-null   object \n",
      " 2   summary            8995 non-null   object \n",
      " 3   link               9122 non-null   object \n",
      " 4   publisher          0 non-null      float64\n",
      " 5   category           9122 non-null   object \n",
      " 6   pubDate            9122 non-null   object \n",
      " 7   image              5022 non-null   object \n",
      " 8   related            9122 non-null   object \n",
      " 9   source             9122 non-null   object \n",
      " 10  collection_period  9122 non-null   object \n",
      "dtypes: float64(1), int64(1), object(9)\n",
      "memory usage: 784.1+ KB\n"
     ]
    }
   ],
   "source": [
    "df.info()"
   ]
  },
  {
   "cell_type": "code",
   "execution_count": 3,
   "metadata": {},
   "outputs": [
    {
     "data": {
      "text/html": [
       "<div>\n",
       "<style scoped>\n",
       "    .dataframe tbody tr th:only-of-type {\n",
       "        vertical-align: middle;\n",
       "    }\n",
       "\n",
       "    .dataframe tbody tr th {\n",
       "        vertical-align: top;\n",
       "    }\n",
       "\n",
       "    .dataframe thead th {\n",
       "        text-align: right;\n",
       "    }\n",
       "</style>\n",
       "<table border=\"1\" class=\"dataframe\">\n",
       "  <thead>\n",
       "    <tr style=\"text-align: right;\">\n",
       "      <th></th>\n",
       "      <th>id</th>\n",
       "      <th>title</th>\n",
       "      <th>summary</th>\n",
       "      <th>link</th>\n",
       "      <th>publisher</th>\n",
       "      <th>category</th>\n",
       "      <th>pubDate</th>\n",
       "      <th>image</th>\n",
       "      <th>related</th>\n",
       "      <th>source</th>\n",
       "      <th>collection_period</th>\n",
       "    </tr>\n",
       "  </thead>\n",
       "  <tbody>\n",
       "    <tr>\n",
       "      <th>0</th>\n",
       "      <td>135270013</td>\n",
       "      <td>3 No-Brainer Artificial Intelligence (AI) Grow...</td>\n",
       "      <td>Finding value in artificial intelligence (AI) ...</td>\n",
       "      <td>https://finnhub.io/api/news?id=3e8de88fcb69df9...</td>\n",
       "      <td>NaN</td>\n",
       "      <td>company</td>\n",
       "      <td>2025-06-14 09:55:00</td>\n",
       "      <td>https://s.yimg.com/rz/stage/p/yahoo_finance_en...</td>\n",
       "      <td>AAPL</td>\n",
       "      <td>Yahoo</td>\n",
       "      <td>2025-06-07_2025-06-14</td>\n",
       "    </tr>\n",
       "    <tr>\n",
       "      <th>1</th>\n",
       "      <td>135258199</td>\n",
       "      <td>Apple Reroutes 97% Of Foxconn iPhone Exports F...</td>\n",
       "      <td>Apple Inc. (NASDAQ:AAPL) has reportedly increa...</td>\n",
       "      <td>https://finnhub.io/api/news?id=e6e09272a3b910a...</td>\n",
       "      <td>NaN</td>\n",
       "      <td>company</td>\n",
       "      <td>2025-06-14 01:30:33</td>\n",
       "      <td>https://s.yimg.com/rz/stage/p/yahoo_finance_en...</td>\n",
       "      <td>AAPL</td>\n",
       "      <td>Yahoo</td>\n",
       "      <td>2025-06-07_2025-06-14</td>\n",
       "    </tr>\n",
       "    <tr>\n",
       "      <th>2</th>\n",
       "      <td>135270015</td>\n",
       "      <td>Why Superintelligent AI Isn’t Taking Over Anyt...</td>\n",
       "      <td>Despite claims from top names in AI, researche...</td>\n",
       "      <td>https://finnhub.io/api/news?id=d8a8fdff582d1f1...</td>\n",
       "      <td>NaN</td>\n",
       "      <td>company</td>\n",
       "      <td>2025-06-14 01:00:00</td>\n",
       "      <td>https://s.yimg.com/rz/stage/p/yahoo_finance_en...</td>\n",
       "      <td>AAPL</td>\n",
       "      <td>Yahoo</td>\n",
       "      <td>2025-06-07_2025-06-14</td>\n",
       "    </tr>\n",
       "    <tr>\n",
       "      <th>3</th>\n",
       "      <td>135257945</td>\n",
       "      <td>Why Apple (AAPL) Dipped More Than Broader Mark...</td>\n",
       "      <td>Apple (AAPL) reached $196.45 at the closing of...</td>\n",
       "      <td>https://finnhub.io/api/news?id=6964bc22b1f8f8c...</td>\n",
       "      <td>NaN</td>\n",
       "      <td>company</td>\n",
       "      <td>2025-06-13 21:45:02</td>\n",
       "      <td>https://s.yimg.com/rz/stage/p/yahoo_finance_en...</td>\n",
       "      <td>AAPL</td>\n",
       "      <td>Yahoo</td>\n",
       "      <td>2025-06-07_2025-06-14</td>\n",
       "    </tr>\n",
       "    <tr>\n",
       "      <th>4</th>\n",
       "      <td>135257921</td>\n",
       "      <td>Apple's $4.4B India Play: The Secret iPhone Sh...</td>\n",
       "      <td>As Trump targets China, Apple quietly reroutes...</td>\n",
       "      <td>https://finnhub.io/api/news?id=7f50a3430d3f330...</td>\n",
       "      <td>NaN</td>\n",
       "      <td>company</td>\n",
       "      <td>2025-06-13 21:06:46</td>\n",
       "      <td>https://s.yimg.com/rz/stage/p/yahoo_finance_en...</td>\n",
       "      <td>AAPL</td>\n",
       "      <td>Yahoo</td>\n",
       "      <td>2025-06-07_2025-06-14</td>\n",
       "    </tr>\n",
       "  </tbody>\n",
       "</table>\n",
       "</div>"
      ],
      "text/plain": [
       "          id                                              title  \\\n",
       "0  135270013  3 No-Brainer Artificial Intelligence (AI) Grow...   \n",
       "1  135258199  Apple Reroutes 97% Of Foxconn iPhone Exports F...   \n",
       "2  135270015  Why Superintelligent AI Isn’t Taking Over Anyt...   \n",
       "3  135257945  Why Apple (AAPL) Dipped More Than Broader Mark...   \n",
       "4  135257921  Apple's $4.4B India Play: The Secret iPhone Sh...   \n",
       "\n",
       "                                             summary  \\\n",
       "0  Finding value in artificial intelligence (AI) ...   \n",
       "1  Apple Inc. (NASDAQ:AAPL) has reportedly increa...   \n",
       "2  Despite claims from top names in AI, researche...   \n",
       "3  Apple (AAPL) reached $196.45 at the closing of...   \n",
       "4  As Trump targets China, Apple quietly reroutes...   \n",
       "\n",
       "                                                link  publisher category  \\\n",
       "0  https://finnhub.io/api/news?id=3e8de88fcb69df9...        NaN  company   \n",
       "1  https://finnhub.io/api/news?id=e6e09272a3b910a...        NaN  company   \n",
       "2  https://finnhub.io/api/news?id=d8a8fdff582d1f1...        NaN  company   \n",
       "3  https://finnhub.io/api/news?id=6964bc22b1f8f8c...        NaN  company   \n",
       "4  https://finnhub.io/api/news?id=7f50a3430d3f330...        NaN  company   \n",
       "\n",
       "               pubDate                                              image  \\\n",
       "0  2025-06-14 09:55:00  https://s.yimg.com/rz/stage/p/yahoo_finance_en...   \n",
       "1  2025-06-14 01:30:33  https://s.yimg.com/rz/stage/p/yahoo_finance_en...   \n",
       "2  2025-06-14 01:00:00  https://s.yimg.com/rz/stage/p/yahoo_finance_en...   \n",
       "3  2025-06-13 21:45:02  https://s.yimg.com/rz/stage/p/yahoo_finance_en...   \n",
       "4  2025-06-13 21:06:46  https://s.yimg.com/rz/stage/p/yahoo_finance_en...   \n",
       "\n",
       "  related source      collection_period  \n",
       "0    AAPL  Yahoo  2025-06-07_2025-06-14  \n",
       "1    AAPL  Yahoo  2025-06-07_2025-06-14  \n",
       "2    AAPL  Yahoo  2025-06-07_2025-06-14  \n",
       "3    AAPL  Yahoo  2025-06-07_2025-06-14  \n",
       "4    AAPL  Yahoo  2025-06-07_2025-06-14  "
      ]
     },
     "execution_count": 3,
     "metadata": {},
     "output_type": "execute_result"
    }
   ],
   "source": [
    "df.head(5)"
   ]
  },
  {
   "cell_type": "code",
   "execution_count": 4,
   "metadata": {},
   "outputs": [
    {
     "data": {
      "text/plain": [
       "'GameStop earnings, US-China talks, May CPI: What to Watch'"
      ]
     },
     "execution_count": 4,
     "metadata": {},
     "output_type": "execute_result"
    }
   ],
   "source": [
    "df['title'][0]"
   ]
  },
  {
   "cell_type": "code",
   "execution_count": 5,
   "metadata": {},
   "outputs": [
    {
     "data": {
      "text/plain": [
       "\"Market Domination Overtime hosts Julie Hyman and Josh Lipton preview the top market stories and headlines Wall Street will be paying attention to next week, including corporate earnings from companies like GameStop (GME), Oracle (ORCL), Adobe (ADBE), and the J.M. Smucker Company (SJM); Apple's (AAPL) 2025 Worldwide Developers Conference (WWDC) kicking off; May's inflation data; and the launch of Tesla's (TSLA) robotaxi beta in Austin, Texas, starting on June 12. To watch more expert insights and analysis on the latest market action, check out more Market Domination Overtime\\xa0here.\""
      ]
     },
     "execution_count": 5,
     "metadata": {},
     "output_type": "execute_result"
    }
   ],
   "source": [
    "df['summary'][0]"
   ]
  },
  {
   "cell_type": "code",
   "execution_count": 9,
   "metadata": {},
   "outputs": [
    {
     "data": {
      "text/plain": [
       "'2025-06-06 23:00:00'"
      ]
     },
     "execution_count": 9,
     "metadata": {},
     "output_type": "execute_result"
    }
   ],
   "source": [
    "df['pubDate'][0]\n"
   ]
  },
  {
   "cell_type": "code",
   "execution_count": 11,
   "metadata": {},
   "outputs": [
    {
     "name": "stderr",
     "output_type": "stream",
     "text": [
      "Device set to use cuda:0\n",
      "c:\\Users\\jhh33\\anaconda3\\envs\\pythonProject1\\Lib\\site-packages\\transformers\\pipelines\\text_classification.py:106: UserWarning: `return_all_scores` is now deprecated,  if want a similar functionality use `top_k=None` instead of `return_all_scores=True` or `top_k=1` instead of `return_all_scores=False`.\n",
      "  warnings.warn(\n"
     ]
    },
    {
     "name": "stdout",
     "output_type": "stream",
     "text": [
      "✅ 결과 저장 완료: apple_finbert_finnhub.csv\n"
     ]
    }
   ],
   "source": [
    "import pandas as pd\n",
    "from transformers import AutoTokenizer, AutoModelForSequenceClassification, pipeline\n",
    "\n",
    "MODEL = \"yiyanghkust/finbert-tone\"\n",
    "tokenizer = AutoTokenizer.from_pretrained(MODEL)\n",
    "model = AutoModelForSequenceClassification.from_pretrained(MODEL)\n",
    "finbert = pipeline(\"sentiment-analysis\", model=model, tokenizer=tokenizer, return_all_scores=True)\n",
    "\n",
    "df = pd.read_csv(\"AAPL_news_2025-06-07.csv\") \n",
    "df = df.fillna(\"\")\n",
    "\n",
    "df[\"text\"] = df[\"title\"] + \". \" + df[\"summary\"]\n",
    "texts = df[\"text\"].tolist()\n",
    "\n",
    "results = finbert(texts, batch_size=8)\n",
    "\n",
    "pos_scores, neu_scores, neg_scores = [], [], []\n",
    "\n",
    "for res in results:\n",
    "    d = {r[\"label\"].lower(): r[\"score\"] for r in res}\n",
    "    pos_scores.append(d.get(\"positive\", 0.0))\n",
    "    neu_scores.append(d.get(\"neutral\", 0.0))\n",
    "    neg_scores.append(d.get(\"negative\", 0.0))\n",
    "\n",
    "df[\"finbert_positive\"] = pos_scores\n",
    "df[\"finbert_neutral\"] = neu_scores\n",
    "df[\"finbert_negative\"] = neg_scores\n",
    "\n",
    "output_csv = \"apple_finbert_finnhub.csv\"\n",
    "df.to_csv(output_csv, index=False)\n",
    "print(f\"결과 저장 완료: {output_csv}\")\n"
   ]
  }
 ],
 "metadata": {
  "kernelspec": {
   "display_name": "Python 3",
   "language": "python",
   "name": "python3"
  },
  "language_info": {
   "codemirror_mode": {
    "name": "ipython",
    "version": 3
   },
   "file_extension": ".py",
   "mimetype": "text/x-python",
   "name": "python",
   "nbconvert_exporter": "python",
   "pygments_lexer": "ipython3",
   "version": "3.13.0"
  }
 },
 "nbformat": 4,
 "nbformat_minor": 2
}
