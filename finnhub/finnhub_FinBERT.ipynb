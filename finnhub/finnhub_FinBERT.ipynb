{
 "cells": [
  {
   "cell_type": "markdown",
   "metadata": {},
   "source": [
    "# 2. Finnhub API 기반 뉴스 데이터 전처리 및 FinBERT 감정분석"
   ]
  },
  {
   "cell_type": "markdown",
   "metadata": {
    "vscode": {
     "languageId": "raw"
    }
   },
   "source": [
    "### 2-1. 파일 경로 설정\n",
    "분석할 뉴스 데이터 파일의 읽기 경로와 감정분석 결과를 저장할 경로를 설정합니다.\n"
   ]
  },
  {
   "cell_type": "code",
   "execution_count": 23,
   "metadata": {},
   "outputs": [],
   "source": [
    "# 입력 파일 경로: Finnhub에서 수집한 Apple 뉴스 데이터 CSV 파일\n",
    "read_path = \"./AAPL_extended_news_2025-06-14.csv\"\n",
    "\n",
    "# 출력 파일 경로: FinBERT 감정분석 결과가 추가된 CSV 파일\n",
    "write_path = \"./apple_finbert_finnhub.csv\""
   ]
  },
  {
   "cell_type": "markdown",
   "metadata": {
    "vscode": {
     "languageId": "raw"
    }
   },
   "source": [
    "### 2-2. 데이터 로드\n",
    "pandas를 사용하여 Finnhub에서 수집한 뉴스 데이터를 DataFrame으로 로드합니다.\n"
   ]
  },
  {
   "cell_type": "code",
   "execution_count": 24,
   "metadata": {},
   "outputs": [],
   "source": [
    "# 데이터 분석을 위한 pandas 라이브러리 import\n",
    "import pandas as pd\n",
    "\n",
    "# CSV 파일에서 뉴스 데이터를 DataFrame으로 로드\n",
    "# 파일에는 id, title, summary, link, publisher, pubDate 등의 컬럼이 포함됨\n",
    "df = pd.read_csv(read_path)"
   ]
  },
  {
   "cell_type": "markdown",
   "metadata": {
    "vscode": {
     "languageId": "raw"
    }
   },
   "source": [
    "### 2-3. FinBERT 모델 설정 및 데이터 전처리\n",
    "금융 도메인에 특화된 FinBERT 모델을 로드하고, 뉴스 텍스트를 감정분석에 적합하게 전처리합니다.\n"
   ]
  },
  {
   "cell_type": "code",
   "execution_count": 27,
   "metadata": {},
   "outputs": [
    {
     "name": "stderr",
     "output_type": "stream",
     "text": [
      "Device set to use cuda:0\n",
      "c:\\Users\\jhh33\\anaconda3\\envs\\pythonProject1\\Lib\\site-packages\\transformers\\pipelines\\text_classification.py:106: UserWarning: `return_all_scores` is now deprecated,  if want a similar functionality use `top_k=None` instead of `return_all_scores=True` or `top_k=1` instead of `return_all_scores=False`.\n",
      "  warnings.warn(\n"
     ]
    },
    {
     "name": "stdout",
     "output_type": "stream",
     "text": [
      "결과 저장 완료: ./apple_finbert_finnhub.csv\n"
     ]
    }
   ],
   "source": [
    "# 감정분석을 위한 transformers 라이브러리 import\n",
    "import pandas as pd\n",
    "from transformers import AutoTokenizer, AutoModelForSequenceClassification, pipeline\n",
    "\n",
    "# FinBERT 모델 설정 - 금융 뉴스 감정분석에 특화된 사전훈련 모델\n",
    "MODEL = \"yiyanghkust/finbert-tone\"  # Hugging Face의 FinBERT-tone 모델\n",
    "\n",
    "# 토크나이저 로드 - 텍스트를 토큰으로 변환하는 도구\n",
    "tokenizer = AutoTokenizer.from_pretrained(MODEL)\n",
    "\n",
    "# 사전훈련된 FinBERT 모델 로드 - 금융 텍스트의 감정을 분류하는 모델\n",
    "model = AutoModelForSequenceClassification.from_pretrained(MODEL)\n",
    "\n",
    "# 감정분석 파이프라인 생성\n",
    "# return_all_scores=True: positive, neutral, negative 모든 점수를 반환\n",
    "finbert = pipeline(\"sentiment-analysis\", model=model, tokenizer=tokenizer, return_all_scores=True)\n",
    "\n",
    "# 이전에 로드한 뉴스 데이터 사용\n",
    "df = pd.read_csv(read_path)\n",
    "\n",
    "# 빈 값(NaN)을 빈 문자열로 대체하여 처리 오류 방지\n",
    "df = df.fillna(\"\")\n",
    "\n",
    "# 분석할 텍스트 컬럼 생성 - 뉴스 제목을 감정분석 대상으로 설정\n",
    "# title 컬럼의 내용을 text 컬럼으로 복사\n",
    "df[\"text\"] = df[\"title\"] \n",
    "\n",
    "# 텍스트 길이 제한 및 플래그 함수 정의\n",
    "def truncate_and_flag(text, tokenizer, max_len=512):\n",
    "    \"\"\"\n",
    "    텍스트를 BERT 모델의 최대 토큰 길이에 맞게 자르고, \n",
    "    원본이 길이 제한을 초과했는지 플래그로 표시하는 함수\n",
    "    \n",
    "    Args:\n",
    "        text: 처리할 텍스트\n",
    "        tokenizer: 사용할 토크나이저\n",
    "        max_len: 최대 토큰 길이 (BERT 계열은 보통 512)\n",
    "        \n",
    "    Returns:\n",
    "        tuple: (잘린_텍스트, 초과_플래그)\n",
    "    \"\"\"\n",
    "    # 텍스트를 토큰으로 변환하면서 max_len에 맞게 자르기\n",
    "    tokens = tokenizer.encode(text, truncation=True, max_length=max_len)\n",
    "    \n",
    "    # 잘린 토큰을 다시 텍스트로 변환\n",
    "    truncated_text = tokenizer.decode(tokens, skip_special_tokens=True)\n",
    "    \n",
    "    # 원본 텍스트가 최대 길이를 초과했는지 확인\n",
    "    # 1: 초과함, 0: 초과하지 않음\n",
    "    over_flag = 1 if len(tokenizer.encode(text)) > max_len else 0\n",
    "    \n",
    "    return truncated_text, over_flag\n",
    "\n",
    "# 모든 텍스트에 대해 길이 제한 적용 및 초과 플래그 생성\n",
    "# apply()와 pd.Series()를 사용하여 함수 결과를 두 개의 컬럼으로 분할\n",
    "df[[\"text\", \"over_512\"]] = df[\"text\"].apply(\n",
    "    lambda x: pd.Series(truncate_and_flag(x, tokenizer, max_len=512))\n",
    ")\n"
   ]
  },
  {
   "cell_type": "markdown",
   "metadata": {
    "vscode": {
     "languageId": "raw"
    }
   },
   "source": [
    "### 2-4. FinBERT 감정분석 실행\n",
    "전처리된 뉴스 텍스트에 대해 FinBERT 모델을 사용하여 감정분석을 수행하고 결과를 저장합니다.\n"
   ]
  },
  {
   "cell_type": "code",
   "execution_count": null,
   "metadata": {},
   "outputs": [],
   "source": [
    "# FinBERT 감정분석 실행을 위한 텍스트 리스트 준비\n",
    "# DataFrame의 text 컬럼을 파이썬 리스트로 변환\n",
    "texts = df[\"text\"].tolist()\n",
    "\n",
    "# FinBERT 모델로 배치 감정분석 수행\n",
    "# batch_size=8: 한 번에 8개씩 처리하여 메모리 효율성과 속도 최적화\n",
    "# GPU 메모리 부족시 더 작은 값(예: 4, 2)으로 조정 가능\n",
    "results = finbert(texts, batch_size=8)\n",
    "\n",
    "# 감정분석 결과를 저장할 빈 리스트들 초기화\n",
    "pos_scores, neu_scores, neg_scores = [], [], []\n",
    "\n",
    "# 각 텍스트의 감정분석 결과를 순회하며 점수 추출\n",
    "for res in results:\n",
    "    # 결과를 라벨:점수 형태의 딕셔너리로 변환\n",
    "    # 라벨을 소문자로 통일하여 일관성 확보\n",
    "    d = {r[\"label\"].lower(): r[\"score\"] for r in res}\n",
    "    \n",
    "    # 각 감정에 대한 점수를 리스트에 추가 (없으면 0.0으로 기본값 설정)\n",
    "    pos_scores.append(d.get(\"positive\", 0.0))   # 긍정 감정 점수\n",
    "    neu_scores.append(d.get(\"neutral\", 0.0))    # 중립 감정 점수  \n",
    "    neg_scores.append(d.get(\"negative\", 0.0))   # 부정 감정 점수\n",
    "\n",
    "# 감정분석 결과를 DataFrame에 새로운 컬럼으로 추가\n",
    "df[\"finbert_positive\"] = pos_scores   # FinBERT 긍정 점수 (0~1)\n",
    "df[\"finbert_neutral\"] = neu_scores    # FinBERT 중립 점수 (0~1)\n",
    "df[\"finbert_negative\"] = neg_scores   # FinBERT 부정 점수 (0~1)\n",
    "\n",
    "# 감정분석 결과가 추가된 DataFrame을 CSV 파일로 저장\n",
    "# index=False: 행 번호를 파일에 포함하지 않음\n",
    "df.to_csv(write_path, index=False)\n",
    "\n",
    "# 저장 완료 메시지 출력\n",
    "print(f\"결과 저장 완료: {write_path}\")\n"
   ]
  },
  {
   "cell_type": "markdown",
   "metadata": {},
   "source": [
    "2. Text의 길이가 얼마나 영향을 끼치는지 확인"
   ]
  },
  {
   "cell_type": "code",
   "execution_count": 13,
   "metadata": {},
   "outputs": [
    {
     "name": "stdout",
     "output_type": "stream",
     "text": [
      "총 개수: 8\n",
      "평균 Positive: 0.30173408985865535\n",
      "평균 Neutral: 0.6699639637954533\n",
      "평균 Negative: 0.028301946480496512\n",
      "Positive > 0.5: 2\n",
      "Negative > 0.5: 0\n",
      "Neutral > 0.7: 5\n"
     ]
    }
   ],
   "source": [
    "df = pd.read_csv(\"./apple_finbert_finnhub.csv\")\n",
    "\n",
    "# 512 토큰 넘은 것만 필터링\n",
    "df_over = df[df[\"over_512\"] == 1]\n",
    "\n",
    "# 요약 통계 출력\n",
    "summary = {\n",
    "    \"총 개수\": len(df_over),\n",
    "    \"평균 Positive\": df_over[\"finbert_positive\"].mean(),\n",
    "    \"평균 Neutral\": df_over[\"finbert_neutral\"].mean(),\n",
    "    \"평균 Negative\": df_over[\"finbert_negative\"].mean(),\n",
    "    \"Positive > 0.5\": (df_over[\"finbert_positive\"] > 0.5).sum(),\n",
    "    \"Negative > 0.5\": (df_over[\"finbert_negative\"] > 0.5).sum(),\n",
    "    \"Neutral > 0.7\": (df_over[\"finbert_neutral\"] > 0.7).sum(),\n",
    "}\n",
    "\n",
    "for k, v in summary.items():\n",
    "    print(f\"{k}: {v}\")\n"
   ]
  },
  {
   "cell_type": "code",
   "execution_count": 14,
   "metadata": {},
   "outputs": [
    {
     "name": "stdout",
     "output_type": "stream",
     "text": [
      "총 개수: 8590\n",
      "평균 Positive: 0.27216195756895806\n",
      "평균 Neutral: 0.5354320729773412\n",
      "평균 Negative: 0.19240596977245797\n",
      "Positive > 0.5: 2322\n",
      "Negative > 0.5: 1639\n",
      "Neutral > 0.7: 4415\n"
     ]
    }
   ],
   "source": [
    "summary = {\n",
    "    \"총 개수\": len(df),\n",
    "    \"평균 Positive\": df[\"finbert_positive\"].mean(),\n",
    "    \"평균 Neutral\": df[\"finbert_neutral\"].mean(),\n",
    "    \"평균 Negative\": df[\"finbert_negative\"].mean(),\n",
    "    \"Positive > 0.5\": (df[\"finbert_positive\"] > 0.5).sum(),\n",
    "    \"Negative > 0.5\": (df[\"finbert_negative\"] > 0.5).sum(),\n",
    "    \"Neutral > 0.7\": (df[\"finbert_neutral\"] > 0.7).sum(),\n",
    "}\n",
    "\n",
    "for k, v in summary.items():\n",
    "    print(f\"{k}: {v}\")"
   ]
  }
 ],
 "metadata": {
  "kernelspec": {
   "display_name": "Python 3",
   "language": "python",
   "name": "python3"
  },
  "language_info": {
   "codemirror_mode": {
    "name": "ipython",
    "version": 3
   },
   "file_extension": ".py",
   "mimetype": "text/x-python",
   "name": "python",
   "nbconvert_exporter": "python",
   "pygments_lexer": "ipython3",
   "version": "3.13.0"
  }
 },
 "nbformat": 4,
 "nbformat_minor": 2
}
