{
  "cells": [
    {
      "cell_type": "markdown",
      "metadata": {
        "vscode": {
          "languageId": "raw"
        }
      },
      "source": [
        "# 5. yfinance를 이용한 주식 데이터 수집"
      ]
    },
    {
      "cell_type": "markdown",
      "metadata": {
        "vscode": {
          "languageId": "raw"
        }
      },
      "source": [
        "### 5-1. 필수 라이브러리 Import\n"
      ]
    },
    {
      "cell_type": "code",
      "execution_count": null,
      "metadata": {},
      "outputs": [],
      "source": [
        "import yfinance as yf\n",
        "import pandas as pd\n",
        "from datetime import datetime, timedelta\n",
        "import warnings\n",
        "import numpy as np\n",
        "warnings.filterwarnings('ignore')\n"
      ]
    },
    {
      "cell_type": "markdown",
      "metadata": {
        "vscode": {
          "languageId": "raw"
        }
      },
      "source": [
        "### 5-2. RSI 계산 함수"
      ]
    },
    {
      "cell_type": "code",
      "execution_count": null,
      "metadata": {},
      "outputs": [],
      "source": [
        "def calculate_rsi(prices, window=14):\n",
        "    \n",
        "    # 전일 대비 가격 변화량 계산\n",
        "    delta = prices.diff()\n",
        "    \n",
        "    # 상승일의 가격 상승폭만 추출 (하락일은 0으로 처리)\n",
        "    # where 조건: delta > 0인 경우만 해당 값 사용, 나머지는 0\n",
        "    gain = (delta.where(delta > 0, 0)).rolling(window=window).mean()\n",
        "    \n",
        "    # 하락일의 가격 하락폭만 추출 (상승일은 0으로 처리)\n",
        "    # -delta로 하락폭을 양수로 변환\n",
        "    loss = (-delta.where(delta < 0, 0)).rolling(window=window).mean()\n",
        "    \n",
        "    # RS (Relative Strength) = 평균 상승폭 / 평균 하락폭\n",
        "    rs = gain / loss\n",
        "    \n",
        "    # RSI = 100 - (100 / (1 + RS))\n",
        "    # RSI가 70 이상이면 과매수, 30 이하면 과매도 구간으로 해석\n",
        "    rsi = 100 - (100 / (1 + rs))\n",
        "    \n",
        "    return rsi\n"
      ]
    },
    {
      "cell_type": "markdown",
      "metadata": {
        "vscode": {
          "languageId": "raw"
        }
      },
      "source": [
        "### 5-3. 시간 조정 함수"
      ]
    },
    {
      "cell_type": "code",
      "execution_count": null,
      "metadata": {},
      "outputs": [],
      "source": [
        "def adjust_time_to_hour(df):\n",
        "    \n",
        "    # Datetime 컬럼이 존재하는지 확인\n",
        "    if 'Datetime' in df.columns:\n",
        "        # 문자열을 pandas datetime 객체로 변환\n",
        "        df['Datetime'] = pd.to_datetime(df['Datetime'])\n",
        "        \n",
        "        # 시간을 시간 단위로 내림 (분, 초를 0으로 만듦)\n",
        "        # floor('H'): 시간 단위로 내림 처리\n",
        "        # 예: 2024-01-15 13:30:45 → 2024-01-15 13:00:00\n",
        "        df['Datetime'] = df['Datetime'].dt.floor('H')\n",
        "        \n",
        "        # 동일한 시간이 여러 개 있는 경우 마지막 값만 유지\n",
        "        # keep='last': 중복된 값 중 마지막 행을 유지\n",
        "        df = df.drop_duplicates(subset=['Datetime'], keep='last')\n",
        "        \n",
        "    return df\n"
      ]
    },
    {
      "cell_type": "markdown",
      "metadata": {
        "vscode": {
          "languageId": "raw"
        }
      },
      "source": [
        "### 5-4. 기술적 지표 추가 함수 (1시간 간격용)"
      ]
    },
    {
      "cell_type": "code",
      "execution_count": null,
      "metadata": {},
      "outputs": [],
      "source": [
        "def add_technical_features(df):\n",
        "    \n",
        "    # === 수익률 계산 ===\n",
        "    # 전 시간 대비 수익률 계산 (Close[t] - Close[t-1]) / Close[t-1]\n",
        "    df['Returns'] = df['Close'].pct_change()\n",
        "    \n",
        "    # 로그 수익률 계산 ln(Close[t] / Close[t-1])\n",
        "    # 연속복리 개념으로, 작은 변화에서는 일반 수익률과 유사\n",
        "    df['Log_Returns'] = np.log(df['Close'] / df['Close'].shift(1))\n",
        "    \n",
        "    # === 이동평균 (Simple Moving Average) ===\n",
        "    # 단순 이동평균: 지정 기간의 평균 가격\n",
        "    df['SMA_10'] = df['Close'].rolling(window=10).mean()  # 10시간 평균\n",
        "    df['SMA_20'] = df['Close'].rolling(window=20).mean()  # 20시간 평균\n",
        "    df['SMA_50'] = df['Close'].rolling(window=50).mean()  # 50시간 평균\n",
        "    \n",
        "    # === 지수이동평균 (Exponential Moving Average) ===\n",
        "    # 최근 데이터에 더 높은 가중치를 부여하는 이동평균\n",
        "    df['EMA_12'] = df['Close'].ewm(span=12).mean()  # 12시간 EMA\n",
        "    df['EMA_26'] = df['Close'].ewm(span=26).mean()  # 26시간 EMA\n",
        "    \n",
        "    # === MACD (Moving Average Convergence Divergence) ===\n",
        "    # 단기 EMA와 장기 EMA의 차이로 추세 변화를 파악\n",
        "    df['MACD'] = df['EMA_12'] - df['EMA_26']  # MACD 라인\n",
        "    df['MACD_Signal'] = df['MACD'].ewm(span=9).mean()  # 시그널 라인 (9시간 EMA)\n",
        "    df['MACD_Histogram'] = df['MACD'] - df['MACD_Signal']  # 히스토그램 (매수/매도 신호)\n",
        "    \n",
        "    # === RSI (Relative Strength Index) ===\n",
        "    # 과매수/과매도 상태를 나타내는 모멘텀 지표 (0~100)\n",
        "    df['RSI'] = calculate_rsi(df['Close'])\n",
        "    \n",
        "    # === 볼린저 밴드 (Bollinger Bands) ===\n",
        "    # 가격의 변동성을 기반으로 한 기술적 지표\n",
        "    df['BB_Middle'] = df['Close'].rolling(window=20).mean()  # 중심선 (20시간 이동평균)\n",
        "    bb_std = df['Close'].rolling(window=20).std()  # 20시간 표준편차\n",
        "    df['BB_Upper'] = df['BB_Middle'] + (bb_std * 2)  # 상단 밴드 (평균 + 2*표준편차)\n",
        "    df['BB_Lower'] = df['BB_Middle'] - (bb_std * 2)  # 하단 밴드 (평균 - 2*표준편차)\n",
        "    df['BB_Width'] = df['BB_Upper'] - df['BB_Lower']  # 밴드 폭 (변동성 지표)\n",
        "    # 현재 가격이 밴드 내에서 어느 위치에 있는지 (0~1, 0.5가 중앙)\n",
        "    df['BB_Position'] = (df['Close'] - df['BB_Lower']) / (df['BB_Upper'] - df['BB_Lower'])\n",
        "    \n",
        "    # === 변동성 지표 ===\n",
        "    # 수익률의 표준편차로 가격 변동성 측정\n",
        "    df['Volatility_10'] = df['Returns'].rolling(window=10).std()  # 10시간 변동성\n",
        "    df['Volatility_20'] = df['Returns'].rolling(window=20).std()  # 20시간 변동성\n",
        "    \n",
        "    # === 가격 변화 지표 ===\n",
        "    # 시가 대비 종가 변화 (절대값)\n",
        "    df['Price_Change'] = df['Close'] - df['Open']\n",
        "    \n",
        "    # 시가 대비 종가 변화 (백분율)\n",
        "    df['Price_Change_Pct'] = (df['Close'] - df['Open']) / df['Open'] * 100\n",
        "    \n",
        "    # === High-Low 스프레드 ===\n",
        "    # 당일 최고가와 최저가의 차이 (일중 변동폭)\n",
        "    df['HL_Spread'] = df['High'] - df['Low']\n",
        "    \n",
        "    # 종가 대비 일중 변동폭 비율\n",
        "    df['HL_Spread_Pct'] = (df['High'] - df['Low']) / df['Close'] * 100\n",
        "    \n",
        "    # === 시간 특성 ===\n",
        "    # 시간대별 패턴 분석을 위한 특성\n",
        "    df['Hour'] = df['Datetime'].dt.hour  # 시간 (0~23)\n",
        "    df['DayOfWeek'] = df['Datetime'].dt.dayofweek  # 요일 (0=월요일, 6=일요일)\n",
        "    df['Month'] = df['Datetime'].dt.month  # 월 (1~12)\n",
        "    df['Quarter'] = df['Datetime'].dt.quarter  # 분기 (1~4)\n",
        "    \n",
        "    # === 거래시간 분류 ===\n",
        "    # 미국 주식시장 기준 거래시간 분류\n",
        "    df['Is_Trading_Hours'] = ((df['Hour'] >= 9) & (df['Hour'] <= 16)).astype(int)  # 정규 거래시간\n",
        "    df['Is_Market_Open'] = ((df['Hour'] >= 9) & (df['Hour'] < 16)).astype(int)     # 시장 개장시간\n",
        "    df['Is_Premarket'] = ((df['Hour'] >= 4) & (df['Hour'] < 9)).astype(int)       # 프리마켓 (4:00-9:30)\n",
        "    df['Is_Aftermarket'] = ((df['Hour'] >= 16) & (df['Hour'] <= 20)).astype(int)  # 애프터마켓 (16:00-20:00)\n",
        "    df['Is_Extended_Hours'] = (df['Is_Premarket'] | df['Is_Aftermarket']).astype(int)  # 연장거래시간\n",
        "    \n",
        "    return df\n"
      ]
    },
    {
      "cell_type": "markdown",
      "metadata": {
        "vscode": {
          "languageId": "raw"
        }
      },
      "source": [
        "### 5-5. 1시간 간격 주식 데이터 수집 함수"
      ]
    },
    {
      "cell_type": "code",
      "execution_count": null,
      "metadata": {},
      "outputs": [],
      "source": [
        "def get_hourly_stock_data(ticker, days=365, save_to_csv=True):\n",
        "    \n",
        "    try:\n",
        "        # yfinance 1시간 간격 데이터 제약사항 확인 (최대 730일)\n",
        "        if days > 730:\n",
        "            days = 730\n",
        "        \n",
        "        # 현재 날짜 기준으로 시작일과 종료일 계산\n",
        "        end_date = datetime.now()\n",
        "        start_date = end_date - timedelta(days=days)\n",
        "        \n",
        "        # yfinance를 사용하여 주식 데이터 다운로드\n",
        "        stock_data = yf.download(\n",
        "            ticker,  # 티커 심볼\n",
        "            start=start_date.strftime('%Y-%m-%d'),  # 시작일 (YYYY-MM-DD 형식)\n",
        "            end=end_date.strftime('%Y-%m-%d'),      # 종료일 (YYYY-MM-DD 형식)\n",
        "            interval='1h',    # 1시간 간격\n",
        "            prepost=True,     # 시장 외 시간 데이터 포함 (프리마켓, 애프터마켓)\n",
        "            progress=False    # 진행상황 표시 안 함\n",
        "        )\n",
        "        \n",
        "        # 데이터가 비어있는 경우 None 반환\n",
        "        if stock_data.empty:\n",
        "            return None\n",
        "        \n",
        "        # 인덱스(날짜/시간)를 일반 컬럼으로 변환\n",
        "        stock_data = stock_data.reset_index()\n",
        "        \n",
        "        # === 컬럼명 정리 작업 ===\n",
        "        # yfinance의 다양한 반환 형식에 대응\n",
        "        \n",
        "        # 'Date' 컬럼이 있으면 'Datetime'으로 변경\n",
        "        if 'Date' in stock_data.columns:\n",
        "            stock_data = stock_data.rename(columns={'Date': 'Datetime'})\n",
        "        # 첫 번째 컬럼이 시간 데이터인 경우 'Datetime'으로 변경\n",
        "        elif stock_data.columns[0] not in ['Datetime', 'Date']:\n",
        "            stock_data = stock_data.rename(columns={stock_data.columns[0]: 'Datetime'})\n",
        "        \n",
        "        # === 멀티레벨 컬럼 처리 ===\n",
        "        # yfinance가 때로 계층적 컬럼 구조로 데이터를 반환하는 경우\n",
        "        if isinstance(stock_data.columns, pd.MultiIndex):\n",
        "            new_columns = []\n",
        "            for col in stock_data.columns:\n",
        "                if isinstance(col, tuple):\n",
        "                    # 튜플의 첫 번째 요소가 시간 관련이면 'Datetime'으로\n",
        "                    if col[0] == 'Datetime' or 'Date' in str(col[0]):\n",
        "                        new_columns.append('Datetime')\n",
        "                    else:\n",
        "                        # 그 외는 첫 번째 요소만 사용 (Open, High, Low, Close, Volume)\n",
        "                        new_columns.append(col[0])\n",
        "                else:\n",
        "                    new_columns.append(col)\n",
        "            stock_data.columns = new_columns\n",
        "        \n",
        "        # 최종적으로 'Datetime' 컬럼이 없으면 첫 번째 컬럼을 사용\n",
        "        if 'Datetime' not in stock_data.columns:\n",
        "            stock_data = stock_data.rename(columns={stock_data.columns[0]: 'Datetime'})\n",
        "        \n",
        "        # === 데이터 전처리 및 특성 추가 ===\n",
        "        # 시간을 정시로 조정 (예: 13:30 → 13:00)\n",
        "        stock_data = adjust_time_to_hour(stock_data)\n",
        "        \n",
        "        # 기술적 지표 계산 및 추가\n",
        "        stock_data = add_technical_features(stock_data)\n",
        "        \n",
        "        # === CSV 파일 저장 ===\n",
        "        if save_to_csv:\n",
        "            # 파일명 형식: {TICKER}_1hour_data_{DAYS}days.csv\n",
        "            filename = f\"{ticker}_1hour_data_{days}days.csv\"\n",
        "            stock_data.to_csv(filename, index=False)  # 인덱스 제외하고 저장\n",
        "        \n",
        "        return stock_data\n",
        "        \n",
        "    except Exception as e:\n",
        "        # 에러 발생 시 None 반환\n",
        "        return None\n"
      ]
    },
    {
      "cell_type": "markdown",
      "metadata": {
        "vscode": {
          "languageId": "raw"
        }
      },
      "source": [
        "### 5-6. 다중 티커 1시간 데이터 수집 함수"
      ]
    },
    {
      "cell_type": "code",
      "execution_count": null,
      "metadata": {},
      "outputs": [],
      "source": [
        "def get_multiple_tickers_hourly(tickers, days=365, save_individual=True, save_combined=True):\n",
        "    \n",
        "    # 수집된 데이터를 저장할 딕셔너리 초기화\n",
        "    all_data = {}\n",
        "    \n",
        "    # 각 티커에 대해 순차적으로 데이터 수집\n",
        "    for ticker in tickers:\n",
        "        # 개별 티커 데이터 수집 (save_to_csv는 save_individual 설정에 따라)\n",
        "        data = get_hourly_stock_data(ticker, days=days, save_to_csv=save_individual)\n",
        "        \n",
        "        # 수집된 데이터가 유효한 경우 딕셔너리에 저장\n",
        "        if data is not None:\n",
        "            all_data[ticker] = data\n",
        "    \n",
        "    # === 통합 데이터 파일 생성 ===\n",
        "    if save_combined and all_data:\n",
        "        # 모든 티커 데이터를 하나로 합칠 빈 데이터프레임 생성\n",
        "        combined_data = pd.DataFrame()\n",
        "        \n",
        "        # 각 티커 데이터에 티커 컬럼 추가 후 통합\n",
        "        for ticker, data in all_data.items():\n",
        "            # 원본 데이터를 복사하여 수정\n",
        "            ticker_data = data.copy()\n",
        "            \n",
        "            # 티커 식별을 위한 'Ticker' 컬럼 추가\n",
        "            ticker_data['Ticker'] = ticker\n",
        "            \n",
        "            # 기존 통합 데이터에 현재 티커 데이터 추가\n",
        "            # ignore_index=True: 인덱스를 새로 생성 (연속적인 번호)\n",
        "            combined_data = pd.concat([combined_data, ticker_data], ignore_index=True)\n",
        "        \n",
        "        # 통합 데이터 CSV 파일 저장\n",
        "        combined_filename = f\"multiple_stocks_1hour_data_{days}days.csv\"\n",
        "        combined_data.to_csv(combined_filename, index=False)\n",
        "    \n",
        "    # 티커별 데이터가 담긴 딕셔너리 반환\n",
        "    return all_data\n"
      ]
    },
    {
      "cell_type": "markdown",
      "metadata": {
        "vscode": {
          "languageId": "raw"
        }
      },
      "source": [
        "### 5-7. 데이터 요약 분석 함수"
      ]
    },
    {
      "cell_type": "code",
      "execution_count": null,
      "metadata": {},
      "outputs": [],
      "source": [
        "def analyze_data_summary(data_dict):\n",
        "    \n",
        "    # 딕셔너리의 각 티커와 데이터에 대해 반복\n",
        "    for ticker, data in data_dict.items():\n",
        "        # 데이터가 유효한 경우에만 분석 진행\n",
        "        if data is not None:\n",
        "            # 전체 데이터에서 결측치(NaN) 개수 계산\n",
        "            # isnull(): 각 셀이 결측치인지 True/False 반환\n",
        "            # sum().sum(): 먼저 각 컬럼별 결측치 개수를 구한 후, 전체 합계 계산\n",
        "            missing_count = data.isnull().sum().sum()\n",
        "            \n",
        "            # 결과 출력 (데이터 포인트 개수와 결측치 개수)\n",
        "            # len(data): 총 행(데이터 포인트) 개수\n",
        "            # :,: 천 단위 구분자 추가 (예: 1000 → 1,000)\n",
        "            print(f\"{ticker}: {len(data):,}개 포인트, 결측치: {missing_count}개\")\n"
      ]
    },
    {
      "cell_type": "markdown",
      "metadata": {
        "vscode": {
          "languageId": "raw"
        }
      },
      "source": [
        "### 5-8. 주요 종목 1시간 데이터 수집 실행\n"
      ]
    },
    {
      "cell_type": "code",
      "execution_count": null,
      "metadata": {},
      "outputs": [],
      "source": [
        "# === 수집 대상 주요 종목 설정 ===\n",
        "# 대형주 기술주 중심으로 선정 (시가총액, 거래량, 변동성 고려)\n",
        "# - AAPL: 애플 (아이폰, 맥북 등 하드웨어)\n",
        "# - AMZN: 아마존 (전자상거래, 클라우드 서비스)\n",
        "# - TSLA: 테슬라 (전기자동차, 에너지)\n",
        "# - GOOGL: 구글 (검색엔진, 광고, 클라우드)\n",
        "# - MSFT: 마이크로소프트 (윈도우, 오피스, 클라우드)\n",
        "tickers = ['AAPL', 'AMZN', 'TSLA', 'GOOGL', 'MSFT']\n",
        "\n",
        "# === 1시간 간격 데이터 수집 실행 ===\n",
        "# days=365: 1년간의 데이터 수집 (충분한 학습 데이터 확보)\n",
        "# save_individual=True: 각 종목별 개별 CSV 파일 생성\n",
        "# save_combined=True: 모든 종목을 통합한 CSV 파일도 생성\n",
        "all_stock_data = get_multiple_tickers_hourly(tickers, days=365)\n",
        "\n",
        "# === 수집 결과 요약 분석 ===\n",
        "# 각 종목별 데이터 포인트 개수와 결측치 개수 확인\n",
        "analyze_data_summary(all_stock_data)\n",
        "\n",
        "# 수집 완료된 종목 개수 출력\n",
        "print(f\"\\\\n데이터 수집 완료: {len(all_stock_data)}개 종목\")\n"
      ]
    },
    {
      "cell_type": "markdown",
      "metadata": {
        "vscode": {
          "languageId": "raw"
        }
      },
      "source": [
        "### 5-9. AAPL 데이터 상세 분석"
      ]
    },
    {
      "cell_type": "code",
      "execution_count": null,
      "metadata": {},
      "outputs": [],
      "source": [
        "# === AAPL 데이터 존재 여부 확인 및 상세 분석 ===\n",
        "if 'AAPL' in all_stock_data:\n",
        "    # AAPL 1시간 데이터를 변수에 저장\n",
        "    aapl_1h = all_stock_data['AAPL']\n",
        "    \n",
        "    # === 기본 데이터 미리보기 ===\n",
        "    print(\"AAPL 1시간 데이터 미리보기:\")\n",
        "    # 핵심 OHLCV 컬럼만 선택하여 상위 5개 행 출력\n",
        "    # OHLCV: Open(시가), High(고가), Low(저가), Close(종가), Volume(거래량)\n",
        "    print(aapl_1h[['Datetime', 'Open', 'High', 'Low', 'Close', 'Volume']].head())\n",
        "    \n",
        "    # === 거래시간 데이터 필터링 ===\n",
        "    # LSTM 학습에는 정규 거래시간 데이터가 더 안정적\n",
        "    # Is_Trading_Hours == 1: 미국 시장 정규 거래시간 (9:30-16:00 ET)\n",
        "    trading_hours = aapl_1h[aapl_1h['Is_Trading_Hours'] == 1]\n",
        "    \n",
        "    # === 학습용 데이터 분석 ===\n",
        "    print(f\"\\\\n학습용 데이터 분석:\")\n",
        "    print(f\"전체 시간 개수: {len(aapl_1h):,}개\")  # 프리마켓, 애프터마켓 포함\n",
        "    print(f\"거래시간 개수: {len(trading_hours):,}개\")  # 정규 거래시간만\n",
        "    \n",
        "    # === 기술적 지표 컬럼 확인 ===\n",
        "    # LSTM 모델의 입력 특성으로 사용할 주요 기술적 지표들\n",
        "    tech_indicators = [col for col in aapl_1h.columns if col in ['SMA_10', 'SMA_20', 'RSI', 'MACD', 'BB_Upper', 'BB_Lower']]\n",
        "    print(f\"기술적 지표 컬럼: {tech_indicators}\")\n",
        "    \n",
        "    # === 데이터 품질 분석 ===\n",
        "    # 결측치가 있는 기술적 지표 확인\n",
        "    missing_indicators = aapl_1h[tech_indicators].isnull().sum()\n",
        "    print(f\"\\\\n기술적 지표별 결측치:\")\n",
        "    for indicator, missing_count in missing_indicators.items():\n",
        "        if missing_count > 0:\n",
        "            print(f\"  {indicator}: {missing_count}개\")\n",
        "    \n",
        "    # === 데이터 범위 정보 ===\n",
        "    print(f\"\\\\n데이터 기간:\")\n",
        "    print(f\"시작: {aapl_1h['Datetime'].min()}\")\n",
        "    print(f\"종료: {aapl_1h['Datetime'].max()}\")\n",
        "    print(f\"총 기간: {(aapl_1h['Datetime'].max() - aapl_1h['Datetime'].min()).days}일\")\n"
      ]
    },
    {
      "cell_type": "markdown",
      "metadata": {
        "vscode": {
          "languageId": "raw"
        }
      },
      "source": [
        "### 5-10. 데이터 수집 완료 요약"
      ]
    },
    {
      "cell_type": "code",
      "execution_count": null,
      "metadata": {},
      "outputs": [],
      "source": [
        "# === 데이터 수집 완료 최종 요약 ===\n",
        "print(\"\\\\n 주식 데이터 수집 완료!\")\n",
        "\n",
        "# 성공적으로 수집된 종목 목록 출력\n",
        "print(f\"수집된 종목: {list(all_stock_data.keys())}\")\n",
        "\n",
        "# === 생성된 CSV 파일 목록 확인 ===\n",
        "print(\"\\\\n 생성된 CSV 파일:\")\n",
        "\n",
        "# 현재 디렉토리의 파일 목록을 가져와서 CSV 파일만 필터링\n",
        "import os\n",
        "# 리스트 컴프리헨션으로 CSV 파일 중 수집 대상 티커가 포함된 파일만 선택\n",
        "csv_files = [f for f in os.listdir('.') if f.endswith('.csv') and any(ticker in f for ticker in tickers)]\n",
        "\n",
        "# 각 생성된 CSV 파일을 출력\n",
        "for file in csv_files:\n",
        "    print(f\"  {file}\")"
      ]
    }
  ],
  "metadata": {
    "kernelspec": {
      "display_name": "Python 3",
      "language": "python",
      "name": "python3"
    },
    "language_info": {
      "codemirror_mode": {
        "name": "ipython",
        "version": 3
      },
      "file_extension": ".py",
      "mimetype": "text/x-python",
      "name": "python",
      "nbconvert_exporter": "python",
      "pygments_lexer": "ipython3",
      "version": "3.13.0"
    }
  },
  "nbformat": 4,
  "nbformat_minor": 2
}
