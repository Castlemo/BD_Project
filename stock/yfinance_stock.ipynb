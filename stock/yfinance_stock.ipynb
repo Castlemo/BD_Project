{
  "cells": [
    {
      "cell_type": "markdown",
      "metadata": {
        "vscode": {
          "languageId": "raw"
        }
      },
      "source": [
        "# 5. yfinance를 이용한 주식 데이터 수집"
      ]
    },
    {
      "cell_type": "markdown",
      "metadata": {
        "vscode": {
          "languageId": "raw"
        }
      },
      "source": [
        "### 5-1. 필수 라이브러리 Import"
      ]
    },
    {
      "cell_type": "code",
      "execution_count": 1,
      "metadata": {},
      "outputs": [],
      "source": [
        "import yfinance as yf\n",
        "import pandas as pd\n",
        "from datetime import datetime, timedelta\n",
        "import warnings\n",
        "import numpy as np\n",
        "warnings.filterwarnings('ignore')"
      ]
    },
    {
      "cell_type": "markdown",
      "metadata": {
        "vscode": {
          "languageId": "raw"
        }
      },
      "source": [
        "### 5-2. RSI 계산 함수"
      ]
    },
    {
      "cell_type": "code",
      "execution_count": 2,
      "metadata": {},
      "outputs": [],
      "source": [
        "# Relative Strength Index 계산 함수\n",
        "def calculate_rsi(prices, window=14):\n",
        "    delta = prices.diff()\n",
        "    gain = (delta.where(delta > 0, 0)).rolling(window=window).mean()\n",
        "    loss = (-delta.where(delta < 0, 0)).rolling(window=window).mean()\n",
        "    rs = gain / loss\n",
        "    rsi = 100 - (100 / (1 + rs))\n",
        "    return rsi\n"
      ]
    },
    {
      "cell_type": "markdown",
      "metadata": {
        "vscode": {
          "languageId": "raw"
        }
      },
      "source": [
        "### 5-3. 시간 조정 함수"
      ]
    },
    {
      "cell_type": "code",
      "execution_count": 3,
      "metadata": {},
      "outputs": [],
      "source": [
        "# 시간을 정시로 조정하는 함수 (예: 13:30 -> 13:00)\n",
        "def adjust_time_to_hour(df):\n",
        "    if 'Datetime' in df.columns:\n",
        "        df['Datetime'] = pd.to_datetime(df['Datetime'])\n",
        "        df['Datetime'] = df['Datetime'].dt.floor('H')\n",
        "        df = df.drop_duplicates(subset=['Datetime'], keep='last')\n",
        "        \n",
        "    return df\n"
      ]
    },
    {
      "cell_type": "markdown",
      "metadata": {
        "vscode": {
          "languageId": "raw"
        }
      },
      "source": [
        "### 5-4. 기술적 지표 추가 함수 (1시간 간격용)"
      ]
    },
    {
      "cell_type": "code",
      "execution_count": 4,
      "metadata": {},
      "outputs": [],
      "source": [
        "def add_technical_features(df):\n",
        "    \n",
        "    # 수익률 계산\n",
        "    df['Returns'] = df['Close'].pct_change()\n",
        "    df['Log_Returns'] = np.log(df['Close'] / df['Close'].shift(1))\n",
        "    \n",
        "    # 이동평균\n",
        "    df['SMA_10'] = df['Close'].rolling(window=10).mean()\n",
        "    df['SMA_20'] = df['Close'].rolling(window=20).mean()\n",
        "    df['SMA_50'] = df['Close'].rolling(window=50).mean()\n",
        "    \n",
        "    # 지수이동평균\n",
        "    df['EMA_12'] = df['Close'].ewm(span=12).mean()\n",
        "    df['EMA_26'] = df['Close'].ewm(span=26).mean()\n",
        "    \n",
        "    # MACD\n",
        "    df['MACD'] = df['EMA_12'] - df['EMA_26']\n",
        "    df['MACD_Signal'] = df['MACD'].ewm(span=9).mean()\n",
        "    df['MACD_Histogram'] = df['MACD'] - df['MACD_Signal']\n",
        "    \n",
        "    # RSI\n",
        "    df['RSI'] = calculate_rsi(df['Close'])\n",
        "    \n",
        "    # 볼린저 밴드\n",
        "    df['BB_Middle'] = df['Close'].rolling(window=20).mean()\n",
        "    bb_std = df['Close'].rolling(window=20).std()\n",
        "    df['BB_Upper'] = df['BB_Middle'] + (bb_std * 2)\n",
        "    df['BB_Lower'] = df['BB_Middle'] - (bb_std * 2)\n",
        "    df['BB_Width'] = df['BB_Upper'] - df['BB_Lower']\n",
        "    df['BB_Position'] = (df['Close'] - df['BB_Lower']) / (df['BB_Upper'] - df['BB_Lower'])\n",
        "    \n",
        "    # 변동성\n",
        "    df['Volatility_10'] = df['Returns'].rolling(window=10).std()\n",
        "    df['Volatility_20'] = df['Returns'].rolling(window=20).std()\n",
        "    \n",
        "    # 가격 변화\n",
        "    df['Price_Change'] = df['Close'] - df['Open']\n",
        "    df['Price_Change_Pct'] = (df['Close'] - df['Open']) / df['Open'] * 100\n",
        "    \n",
        "    # High-Low 스프레드\n",
        "    df['HL_Spread'] = df['High'] - df['Low']\n",
        "    df['HL_Spread_Pct'] = (df['High'] - df['Low']) / df['Close'] * 100\n",
        "    \n",
        "    # 시간 특성\n",
        "    df['Hour'] = df['Datetime'].dt.hour\n",
        "    df['DayOfWeek'] = df['Datetime'].dt.dayofweek\n",
        "    df['Month'] = df['Datetime'].dt.month\n",
        "    df['Quarter'] = df['Datetime'].dt.quarter\n",
        "    \n",
        "    # 거래시간 여부\n",
        "    df['Is_Trading_Hours'] = ((df['Hour'] >= 9) & (df['Hour'] <= 16)).astype(int)\n",
        "    df['Is_Market_Open'] = ((df['Hour'] >= 9) & (df['Hour'] < 16)).astype(int)\n",
        "    df['Is_Premarket'] = ((df['Hour'] >= 4) & (df['Hour'] < 9)).astype(int)\n",
        "    df['Is_Aftermarket'] = ((df['Hour'] >= 16) & (df['Hour'] <= 20)).astype(int)\n",
        "    df['Is_Extended_Hours'] = (df['Is_Premarket'] | df['Is_Aftermarket']).astype(int)\n",
        "    \n",
        "    return df\n"
      ]
    },
    {
      "cell_type": "markdown",
      "metadata": {
        "vscode": {
          "languageId": "raw"
        }
      },
      "source": [
        "### 5-5. 기술적 지표 추가 함수 (일별 데이터용)"
      ]
    },
    {
      "cell_type": "code",
      "execution_count": 5,
      "metadata": {},
      "outputs": [],
      "source": [
        "def add_technical_features_daily(df):\n",
        "    \"\"\"일별 데이터용 기술적 지표 추가\"\"\"\n",
        "    \n",
        "    # 수익률 계산\n",
        "    df['Returns'] = df['Close'].pct_change()\n",
        "    df['Log_Returns'] = np.log(df['Close'] / df['Close'].shift(1))\n",
        "    \n",
        "    # 이동평균\n",
        "    df['SMA_5'] = df['Close'].rolling(window=5).mean()\n",
        "    df['SMA_10'] = df['Close'].rolling(window=10).mean()\n",
        "    df['SMA_20'] = df['Close'].rolling(window=20).mean()\n",
        "    df['SMA_50'] = df['Close'].rolling(window=50).mean()\n",
        "    \n",
        "    # 지수이동평균\n",
        "    df['EMA_12'] = df['Close'].ewm(span=12).mean()\n",
        "    df['EMA_26'] = df['Close'].ewm(span=26).mean()\n",
        "    \n",
        "    # MACD\n",
        "    df['MACD'] = df['EMA_12'] - df['EMA_26']\n",
        "    df['MACD_Signal'] = df['MACD'].ewm(span=9).mean()\n",
        "    df['MACD_Histogram'] = df['MACD'] - df['MACD_Signal']\n",
        "    \n",
        "    # RSI\n",
        "    df['RSI'] = calculate_rsi(df['Close'])\n",
        "    \n",
        "    # 볼린저 밴드\n",
        "    df['BB_Middle'] = df['Close'].rolling(window=20).mean()\n",
        "    bb_std = df['Close'].rolling(window=20).std()\n",
        "    df['BB_Upper'] = df['BB_Middle'] + (bb_std * 2)\n",
        "    df['BB_Lower'] = df['BB_Middle'] - (bb_std * 2)\n",
        "    df['BB_Width'] = df['BB_Upper'] - df['BB_Lower']\n",
        "    df['BB_Position'] = (df['Close'] - df['BB_Lower']) / (df['BB_Upper'] - df['BB_Lower'])\n",
        "    \n",
        "    # 변동성\n",
        "    df['Volatility_5'] = df['Returns'].rolling(window=5).std()\n",
        "    df['Volatility_10'] = df['Returns'].rolling(window=10).std()\n",
        "    df['Volatility_20'] = df['Returns'].rolling(window=20).std()\n",
        "    \n",
        "    # 가격 변화\n",
        "    df['Price_Change'] = df['Close'] - df['Open']\n",
        "    df['Price_Change_Pct'] = (df['Close'] - df['Open']) / df['Open'] * 100\n",
        "    \n",
        "    # High-Low 스프레드\n",
        "    df['HL_Spread'] = df['High'] - df['Low']\n",
        "    df['HL_Spread_Pct'] = (df['High'] - df['Low']) / df['Close'] * 100\n",
        "    \n",
        "    # 시간 특성 (일별 데이터용)\n",
        "    df['DayOfWeek'] = pd.to_datetime(df['Date']).dt.dayofweek\n",
        "    df['Month'] = pd.to_datetime(df['Date']).dt.month\n",
        "    df['Quarter'] = pd.to_datetime(df['Date']).dt.quarter\n",
        "    df['DayOfMonth'] = pd.to_datetime(df['Date']).dt.day\n",
        "    df['WeekOfYear'] = pd.to_datetime(df['Date']).dt.isocalendar().week\n",
        "    \n",
        "    # 거래일 특성\n",
        "    df['Is_Monday'] = (df['DayOfWeek'] == 0).astype(int)\n",
        "    df['Is_Friday'] = (df['DayOfWeek'] == 4).astype(int)\n",
        "    df['Is_MonthEnd'] = pd.to_datetime(df['Date']).dt.is_month_end.astype(int)\n",
        "    df['Is_MonthStart'] = pd.to_datetime(df['Date']).dt.is_month_start.astype(int)\n",
        "    \n",
        "    return df\n"
      ]
    },
    {
      "cell_type": "markdown",
      "metadata": {
        "vscode": {
          "languageId": "raw"
        }
      },
      "source": [
        "### 5-6. 1시간 간격 주식 데이터 수집 함수"
      ]
    },
    {
      "cell_type": "code",
      "execution_count": 6,
      "metadata": {},
      "outputs": [],
      "source": [
        "# 티커를 입력받아 최근 N일간의 1시간 간격 주식 데이터를 가져오는 함수\n",
        "def get_hourly_stock_data(ticker, days=365, save_to_csv=True):\n",
        "    \n",
        "    try:\n",
        "        if days > 730:\n",
        "            days = 730\n",
        "        \n",
        "        end_date = datetime.now()\n",
        "        start_date = end_date - timedelta(days=days)\n",
        "        \n",
        "        stock_data = yf.download(\n",
        "            ticker,\n",
        "            start=start_date.strftime('%Y-%m-%d'),\n",
        "            end=end_date.strftime('%Y-%m-%d'),\n",
        "            interval='1h',\n",
        "            prepost=True,\n",
        "            progress=False\n",
        "        )\n",
        "        \n",
        "        if stock_data.empty:\n",
        "            return None\n",
        "        \n",
        "        stock_data = stock_data.reset_index()\n",
        "        \n",
        "        # 컬럼명 정리\n",
        "        if 'Date' in stock_data.columns:\n",
        "            stock_data = stock_data.rename(columns={'Date': 'Datetime'})\n",
        "        elif stock_data.columns[0] not in ['Datetime', 'Date']:\n",
        "            stock_data = stock_data.rename(columns={stock_data.columns[0]: 'Datetime'})\n",
        "        \n",
        "        # 멀티레벨 컬럼 처리\n",
        "        if isinstance(stock_data.columns, pd.MultiIndex):\n",
        "            new_columns = []\n",
        "            for col in stock_data.columns:\n",
        "                if isinstance(col, tuple):\n",
        "                    if col[0] == 'Datetime' or 'Date' in str(col[0]):\n",
        "                        new_columns.append('Datetime')\n",
        "                    else:\n",
        "                        new_columns.append(col[0])\n",
        "                else:\n",
        "                    new_columns.append(col)\n",
        "            stock_data.columns = new_columns\n",
        "        \n",
        "        if 'Datetime' not in stock_data.columns:\n",
        "            stock_data = stock_data.rename(columns={stock_data.columns[0]: 'Datetime'})\n",
        "        \n",
        "        # 시간 조정\n",
        "        stock_data = adjust_time_to_hour(stock_data)\n",
        "        \n",
        "        # 기술적 지표 추가\n",
        "        stock_data = add_technical_features(stock_data)\n",
        "        \n",
        "        # CSV 저장\n",
        "        if save_to_csv:\n",
        "            filename = f\"{ticker}_1hour_data_{days}days.csv\"\n",
        "            stock_data.to_csv(filename, index=False)\n",
        "        \n",
        "        return stock_data\n",
        "        \n",
        "    except Exception as e:\n",
        "        return None\n"
      ]
    },
    {
      "cell_type": "markdown",
      "metadata": {
        "vscode": {
          "languageId": "raw"
        }
      },
      "source": [
        "### 5-9. 다중 티커 1시간 데이터 수집 함수\n"
      ]
    },
    {
      "cell_type": "code",
      "execution_count": 9,
      "metadata": {},
      "outputs": [],
      "source": [
        "def get_multiple_tickers_hourly(tickers, days=365, save_individual=True, save_combined=True):\n",
        "    \"\"\"여러 티커의 1시간 간격 데이터를 한번에 수집\"\"\"\n",
        "    \n",
        "    all_data = {}\n",
        "    \n",
        "    for ticker in tickers:\n",
        "        data = get_hourly_stock_data(ticker, days=days, save_to_csv=save_individual)\n",
        "        \n",
        "        if data is not None:\n",
        "            all_data[ticker] = data\n",
        "    \n",
        "    # 통합 데이터 저장\n",
        "    if save_combined and all_data:\n",
        "        combined_data = pd.DataFrame()\n",
        "        \n",
        "        for ticker, data in all_data.items():\n",
        "            ticker_data = data.copy()\n",
        "            ticker_data['Ticker'] = ticker\n",
        "            combined_data = pd.concat([combined_data, ticker_data], ignore_index=True)\n",
        "        \n",
        "        combined_filename = f\"multiple_stocks_1hour_data_{days}days.csv\"\n",
        "        combined_data.to_csv(combined_filename, index=False)\n",
        "    \n",
        "    return all_data\n"
      ]
    },
    {
      "cell_type": "markdown",
      "metadata": {
        "vscode": {
          "languageId": "raw"
        }
      },
      "source": [
        "### 5-12. 데이터 요약 분석 함수"
      ]
    },
    {
      "cell_type": "code",
      "execution_count": 11,
      "metadata": {},
      "outputs": [],
      "source": [
        "def analyze_data_summary(data_dict):\n",
        "    \"\"\"수집된 데이터 요약 분석\"\"\"\n",
        "    \n",
        "    for ticker, data in data_dict.items():\n",
        "        if data is not None:\n",
        "            missing_count = data.isnull().sum().sum()\n",
        "            print(f\"{ticker}: {len(data):,}개 포인트, 결측치: {missing_count}개\")\n"
      ]
    },
    {
      "cell_type": "markdown",
      "metadata": {
        "vscode": {
          "languageId": "raw"
        }
      },
      "source": [
        "### 5-13. 주요 종목 1시간 데이터 수집 실행"
      ]
    },
    {
      "cell_type": "code",
      "execution_count": 12,
      "metadata": {},
      "outputs": [
        {
          "name": "stdout",
          "output_type": "stream",
          "text": [
            "AAPL: 3,905개 포인트, 결측치: 217개\n",
            "AMZN: 3,905개 포인트, 결측치: 217개\n",
            "TSLA: 3,905개 포인트, 결측치: 217개\n",
            "GOOGL: 3,905개 포인트, 결측치: 217개\n",
            "MSFT: 3,905개 포인트, 결측치: 217개\n",
            "데이터 수집 완료: 5개 종목\n"
          ]
        }
      ],
      "source": [
        "# 주요 종목 설정\n",
        "tickers = ['AAPL', 'AMZN', 'TSLA', 'GOOGL', 'MSFT']\n",
        "\n",
        "# 1시간 간격 데이터 수집 (1년)\n",
        "all_stock_data = get_multiple_tickers_hourly(tickers, days=365)\n",
        "\n",
        "# 요약 분석\n",
        "analyze_data_summary(all_stock_data)\n",
        "\n",
        "print(f\"데이터 수집 완료: {len(all_stock_data)}개 종목\")\n"
      ]
    },
    {
      "cell_type": "markdown",
      "metadata": {
        "vscode": {
          "languageId": "raw"
        }
      },
      "source": [
        "### 5-15. 수집된 데이터 확인"
      ]
    },
    {
      "cell_type": "code",
      "execution_count": 13,
      "metadata": {},
      "outputs": [
        {
          "name": "stdout",
          "output_type": "stream",
          "text": [
            "AAPL 1시간 데이터 미리보기:\n",
            "                   Datetime    Open    High     Low   Close  Volume\n",
            "0 2024-06-20 08:00:00+00:00  214.74  215.26  214.20  214.83       0\n",
            "1 2024-06-20 09:00:00+00:00  214.80  214.95  214.50  214.70       0\n",
            "2 2024-06-20 10:00:00+00:00  214.69  214.75  214.50  214.67       0\n",
            "3 2024-06-20 11:00:00+00:00  214.65  214.69  213.67  213.91       0\n",
            "4 2024-06-20 12:00:00+00:00  213.90  215.30  213.37  213.94       0\n",
            "\n",
            "학습용 데이터 분석:\n",
            "전체 시간 개수: 3,905개\n",
            "거래시간 개수: 1,999개\n",
            "기술적 지표 컬럼: ['SMA_10', 'SMA_20', 'MACD', 'RSI', 'BB_Upper', 'BB_Lower']\n"
          ]
        }
      ],
      "source": [
        "# AAPL 1시간 데이터 상세 분석\n",
        "if 'AAPL' in all_stock_data:\n",
        "    aapl_1h = all_stock_data['AAPL']\n",
        "    \n",
        "    # 데이터 미리보기\n",
        "    print(\"AAPL 1시간 데이터 미리보기:\")\n",
        "    print(aapl_1h[['Datetime', 'Open', 'High', 'Low', 'Close', 'Volume']].head())\n",
        "    \n",
        "    # 거래시간 데이터 분석\n",
        "    trading_hours = aapl_1h[aapl_1h['Is_Trading_Hours'] == 1]\n",
        "    \n",
        "    print(f\"\\n학습용 데이터 분석:\")\n",
        "    print(f\"전체 시간 개수: {len(aapl_1h):,}개\")\n",
        "    print(f\"거래시간 개수: {len(trading_hours):,}개\")\n",
        "    \n",
        "    # 기술적 지표 컬럼 확인\n",
        "    tech_indicators = [col for col in aapl_1h.columns if col in ['SMA_10', 'SMA_20', 'RSI', 'MACD', 'BB_Upper', 'BB_Lower']]\n",
        "    print(f\"기술적 지표 컬럼: {tech_indicators}\")\n"
      ]
    },
    {
      "cell_type": "markdown",
      "metadata": {
        "vscode": {
          "languageId": "raw"
        }
      },
      "source": [
        "### 5-16. 데이터 수집 완료 요약"
      ]
    },
    {
      "cell_type": "code",
      "execution_count": 14,
      "metadata": {},
      "outputs": [
        {
          "name": "stdout",
          "output_type": "stream",
          "text": [
            "주식 데이터 수집 완료!\n",
            "수집된 종목: ['AAPL', 'AMZN', 'TSLA', 'GOOGL', 'MSFT']\n",
            "\n",
            "생성된 CSV 파일:\n",
            "- AAPL_1hour_data_365days.csv\n",
            "- AMZN_1hour_data_365days.csv\n",
            "- GOOGL_1hour_data_365days.csv\n",
            "- MSFT_1hour_data_365days.csv\n",
            "- TSLA_1hour_data_365days.csv\n",
            "\n",
            "권장사항:\n",
            "✅ 1시간 간격 1년 데이터 - LSTM 학습에 최적!\n",
            "   → 충분한 데이터 양 + 적절한 시간 해상도\n"
          ]
        }
      ],
      "source": [
        "print(\"주식 데이터 수집 완료!\")\n",
        "print(f\"수집된 종목: {list(all_stock_data.keys())}\")\n",
        "print(\"\\n생성된 CSV 파일:\")\n",
        "\n",
        "import os\n",
        "csv_files = [f for f in os.listdir('.') if f.endswith('.csv') and any(ticker in f for ticker in tickers)]\n",
        "for file in csv_files:\n",
        "    print(f\"- {file}\")\n",
        "\n",
        "print(\"\\n권장사항:\")\n",
        "print(\"✅ 1시간 간격 1년 데이터 - LSTM 학습에 최적!\")\n",
        "print(\"   → 충분한 데이터 양 + 적절한 시간 해상도\")\n"
      ]
    }
  ],
  "metadata": {
    "kernelspec": {
      "display_name": "Python 3",
      "language": "python",
      "name": "python3"
    },
    "language_info": {
      "codemirror_mode": {
        "name": "ipython",
        "version": 3
      },
      "file_extension": ".py",
      "mimetype": "text/x-python",
      "name": "python",
      "nbconvert_exporter": "python",
      "pygments_lexer": "ipython3",
      "version": "3.13.0"
    }
  },
  "nbformat": 4,
  "nbformat_minor": 2
}
